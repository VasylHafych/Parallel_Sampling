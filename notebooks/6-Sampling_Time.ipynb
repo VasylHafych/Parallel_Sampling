{
 "cells": [
  {
   "cell_type": "code",
   "execution_count": null,
   "metadata": {},
   "outputs": [],
   "source": [
    "using IntervalSets\n",
    "using Distributions\n",
    "using Random, LinearAlgebra, Statistics, Distributions, StatsBase, ArraysOfArrays\n",
    "using JLD2\n",
    "using ValueShapes\n",
    "using TypedTables\n",
    "using Measurements\n",
    "using TypedTables\n",
    "using HypothesisTests\n",
    "using BenchmarkTools"
   ]
  },
  {
   "cell_type": "code",
   "execution_count": null,
   "metadata": {},
   "outputs": [],
   "source": [
    "# using PyPlot\n",
    "using Plots\n",
    "pyplot()"
   ]
  },
  {
   "cell_type": "code",
   "execution_count": null,
   "metadata": {},
   "outputs": [],
   "source": [
    "using Revise\n",
    "using BAT"
   ]
  },
  {
   "cell_type": "code",
   "execution_count": null,
   "metadata": {},
   "outputs": [],
   "source": [
    "JLD2.@load \"../data/mixture-9D-nc.jld\" means cov_m n_clusters\n",
    "\n",
    "mixture_model = MixtureModel(MvNormal[MvNormal(means[i,:], Matrix(Hermitian(cov_m[i,:,:])) ) for i in 1:n_clusters]);\n",
    "\n",
    "likelihood = let model = mixture_model\n",
    "    params -> begin\n",
    "         return LogDVal(logpdf(model, params.a))\n",
    "    end\n",
    "end\n",
    "\n",
    "prior = NamedTupleDist(a = [Uniform(-100,100) for i in 1:size(means)[2]])\n",
    "posterior = PosteriorDensity(likelihood, prior);\n",
    "log_volume = BAT.log_volume(BAT.spatialvolume(posterior.parbounds))"
   ]
  },
  {
   "cell_type": "code",
   "execution_count": null,
   "metadata": {},
   "outputs": [],
   "source": [
    "burnin = MCMCBurninStrategy(\n",
    "        max_nsamples_per_cycle = 1000,\n",
    "        max_nsteps_per_cycle = 10000,\n",
    "        max_time_per_cycle = Inf,\n",
    "        max_ncycles = 50\n",
    "    )\n",
    "\n",
    "tuning = AdaptiveMetropolisTuning(\n",
    "    λ = 0.5,\n",
    "    α = 0.05..0.15,\n",
    "    β = 1.5,\n",
    "    c = 1e-4..1e2,\n",
    "    r = 0.5\n",
    ")\n",
    "\n",
    "init = MCMCInitStrategy(\n",
    "    init_tries_per_chain = 8..128,\n",
    "    max_nsamples_init = 25,\n",
    "    max_nsteps_init = 250,\n",
    "    max_time_init = Inf\n",
    ")\n",
    "\n",
    "n_chains = 10\n",
    "n_samples = 3*10^5 # number of samples per chain\n",
    "max_nsteps = 10^10 # total number of samples from all chains \n",
    "max_time = 200 # [seconds] spent on generating samples"
   ]
  },
  {
   "cell_type": "code",
   "execution_count": null,
   "metadata": {},
   "outputs": [],
   "source": [
    "s_result = @time bat_sample(posterior, (n_samples, n_chains), MetropolisHastings(), init=init, burnin=burnin, tuning=tuning, max_nsteps=max_nsteps, max_time=max_time);"
   ]
  },
  {
   "cell_type": "code",
   "execution_count": null,
   "metadata": {},
   "outputs": [],
   "source": [
    "# s_result = @btime bat_sample($posterior, ($n_samples, $n_chains), MetropolisHastings(), init=$init, burnin=$burnin, tuning=$tuning, max_nsteps=$max_nsteps, max_time=$max_time);"
   ]
  },
  {
   "cell_type": "code",
   "execution_count": null,
   "metadata": {},
   "outputs": [],
   "source": [
    "length(s_result.result)"
   ]
  },
  {
   "cell_type": "code",
   "execution_count": null,
   "metadata": {},
   "outputs": [],
   "source": [
    "s_result.chains[4].nsamples"
   ]
  },
  {
   "cell_type": "code",
   "execution_count": null,
   "metadata": {},
   "outputs": [],
   "source": [
    "[i.nsamples for i in s_result.chains]"
   ]
  },
  {
   "cell_type": "code",
   "execution_count": null,
   "metadata": {},
   "outputs": [],
   "source": [
    "n_samples_array = []\n",
    "t_array = [2, 5, 10, 15, 40, 50,]\n",
    "\n",
    "for t in t_array\n",
    "    s_result = @time bat_sample(posterior, (n_samples, n_chains), MetropolisHastings(), init=init, burnin=burnin, tuning=tuning, max_nsteps=max_nsteps, max_time=t);\n",
    "    append!(n_samples_array, length(s_result.result))\n",
    "end"
   ]
  },
  {
   "cell_type": "code",
   "execution_count": null,
   "metadata": {},
   "outputs": [],
   "source": [
    "scatter(t_array, n_samples_array)"
   ]
  },
  {
   "cell_type": "code",
   "execution_count": null,
   "metadata": {},
   "outputs": [],
   "source": []
  }
 ],
 "metadata": {
  "kernelspec": {
   "display_name": "Julia 1.4.2",
   "language": "julia",
   "name": "julia-1.4"
  },
  "language_info": {
   "file_extension": ".jl",
   "mimetype": "application/julia",
   "name": "julia",
   "version": "1.4.2"
  }
 },
 "nbformat": 4,
 "nbformat_minor": 4
}
