{
 "cells": [
  {
   "cell_type": "code",
   "execution_count": 1,
   "metadata": {},
   "outputs": [],
   "source": [
    "using IntervalSets\n",
    "using Distributions\n",
    "using Random, LinearAlgebra, Statistics, Distributions, StatsBase, ArraysOfArrays\n",
    "using JLD2\n",
    "using ValueShapes\n",
    "using Measurements\n",
    "using TypedTables\n",
    "using HypothesisTests\n",
    "using LaTeXStrings\n",
    "using HDF5\n",
    "using CSV\n",
    "using MultivariateStats"
   ]
  },
  {
   "cell_type": "code",
   "execution_count": 2,
   "metadata": {},
   "outputs": [],
   "source": [
    "using Flux\n",
    "using Flux: logitcrossentropy, normalise, onecold, onehotbatch, crossentropy, throttle\n",
    "using Statistics: mean\n",
    "using Parameters: @with_kw\n",
    "using Flux: @epochs"
   ]
  },
  {
   "cell_type": "code",
   "execution_count": 3,
   "metadata": {},
   "outputs": [
    {
     "data": {
      "text/plain": [
       "Plots.PyPlotBackend()"
      ]
     },
     "execution_count": 3,
     "metadata": {},
     "output_type": "execute_result"
    }
   ],
   "source": [
    "# using PyPlot\n",
    "using Plots\n",
    "pyplot()"
   ]
  },
  {
   "cell_type": "code",
   "execution_count": 4,
   "metadata": {},
   "outputs": [],
   "source": [
    "using PyPlot"
   ]
  },
  {
   "cell_type": "code",
   "execution_count": 5,
   "metadata": {},
   "outputs": [
    {
     "name": "stderr",
     "output_type": "stream",
     "text": [
      "┌ Info: Precompiling BAT [c0cd4b16-88b7-57fa-983b-ab80aecada7e]\n",
      "└ @ Base loading.jl:1260\n"
     ]
    }
   ],
   "source": [
    "using Revise\n",
    "using BAT"
   ]
  },
  {
   "cell_type": "code",
   "execution_count": 6,
   "metadata": {},
   "outputs": [],
   "source": [
    "PATH = \"../data/Benchmark-3/\"\n",
    "filename = readdir(\"../data/Benchmark-3/\")\n",
    "\n",
    "mask_s = [i[end-3:end] == \"hdf5\" for i in filename]\n",
    "samples_names = filename[mask_s];"
   ]
  },
  {
   "cell_type": "code",
   "execution_count": 7,
   "metadata": {},
   "outputs": [],
   "source": [
    "prior = NamedTupleDist(a = [Uniform(-100,100) for i in 1:9]);"
   ]
  },
  {
   "cell_type": "code",
   "execution_count": 8,
   "metadata": {},
   "outputs": [
    {
     "name": "stderr",
     "output_type": "stream",
     "text": [
      "┌ Info: Initializing new RNG of type Random123.Philox4x{UInt64,10}\n",
      "└ @ BAT /Users/vhafych/MPP-Server/gitrepos/BAT.jl/src/algotypes/bat_default.jl:44\n",
      "┌ Info: Using sampling algorithm IIDSampling()\n",
      "└ @ BAT /Users/vhafych/MPP-Server/gitrepos/BAT.jl/src/algotypes/bat_default.jl:44\n"
     ]
    }
   ],
   "source": [
    "JLD2.@load \"../data/mixture-9D-nc.jld\" means cov_m n_clusters\n",
    "mixture_model = MixtureModel(MvNormal[MvNormal(means[i,:], Matrix(Hermitian(cov_m[i,:,:])) ) for i in 1:n_clusters]);\n",
    "iid_samples =  bat_sample(NamedTupleDist(a=mixture_model), 10^4).result;"
   ]
  },
  {
   "cell_type": "code",
   "execution_count": 9,
   "metadata": {},
   "outputs": [
    {
     "data": {
      "text/plain": [
       "\"32-4-2.hdf5\""
      ]
     },
     "execution_count": 9,
     "metadata": {},
     "output_type": "execute_result"
    }
   ],
   "source": [
    "samples_names[47]"
   ]
  },
  {
   "cell_type": "code",
   "execution_count": 10,
   "metadata": {},
   "outputs": [],
   "source": [
    "outp_tmp = bat_read(\"../data/Benchmark-3/\"*samples_names[47])\n",
    "sp_samples = varshape(prior).(outp_tmp);"
   ]
  },
  {
   "cell_type": "code",
   "execution_count": 11,
   "metadata": {},
   "outputs": [
    {
     "name": "stderr",
     "output_type": "stream",
     "text": [
      "┌ Info: Initializing new RNG of type Random123.Philox4x{UInt64,10}\n",
      "└ @ BAT /Users/vhafych/MPP-Server/gitrepos/BAT.jl/src/algotypes/bat_default.jl:44\n",
      "┌ Info: Using sampling algorithm OrderedResampling()\n",
      "└ @ BAT /Users/vhafych/MPP-Server/gitrepos/BAT.jl/src/algotypes/bat_default.jl:44\n"
     ]
    }
   ],
   "source": [
    "sp_resampled = bat_sample(sp_samples, 10^4).result;"
   ]
  },
  {
   "cell_type": "code",
   "execution_count": null,
   "metadata": {},
   "outputs": [],
   "source": [
    "# Plots.plot(sp_resampled)"
   ]
  },
  {
   "cell_type": "markdown",
   "metadata": {},
   "source": [
    "# Test: IID vs. IID"
   ]
  },
  {
   "cell_type": "code",
   "execution_count": null,
   "metadata": {},
   "outputs": [],
   "source": [
    "mixture_model_1 = MixtureModel(MvNormal[MvNormal(means[i,:], Matrix(Hermitian(cov_m[i,:,:])) ) for i in 1:1])\n",
    "iid_samples_1 =  bat_sample(NamedTupleDist(a=mixture_model_1), 5*10^4).result\n",
    "\n",
    "mixture_model_2 = MixtureModel(MvNormal[MvNormal(means[i,:], Matrix(Hermitian(cov_m[i,:,:])) ) for i in 1:2])\n",
    "iid_samples_2 =  bat_sample(NamedTupleDist(a=mixture_model_2), 5*10^4).result;\n",
    "\n",
    "data_a = flatview(unshaped.(iid_samples_1.v));\n",
    "data_b = flatview(unshaped.(iid_samples_2.v));"
   ]
  },
  {
   "cell_type": "code",
   "execution_count": 12,
   "metadata": {},
   "outputs": [],
   "source": [
    "data_a = flatview(unshaped.(iid_samples.v));\n",
    "data_b = flatview(unshaped.(sp_resampled.v));"
   ]
  },
  {
   "cell_type": "code",
   "execution_count": 13,
   "metadata": {},
   "outputs": [],
   "source": [
    "x_d = hcat(data_a, data_b)\n",
    "\n",
    "y_d = [repeat([0], size(data_a)[2]); repeat([1], size(data_b)[2])]\n",
    "klasses = [0, 1]\n",
    "onehot_labels = onehotbatch(y_d, klasses);"
   ]
  },
  {
   "cell_type": "code",
   "execution_count": 14,
   "metadata": {},
   "outputs": [
    {
     "data": {
      "text/plain": [
       "2×6602 Flux.OneHotMatrix{Array{Flux.OneHotVector,1}}:\n",
       " 1  1  1  1  1  1  1  1  1  1  1  1  1  …  0  0  0  0  0  0  0  0  0  0  0  0\n",
       " 0  0  0  0  0  0  0  0  0  0  0  0  0     1  1  1  1  1  1  1  1  1  1  1  1"
      ]
     },
     "execution_count": 14,
     "metadata": {},
     "output_type": "execute_result"
    }
   ],
   "source": [
    "data_length = size(x_d)[2]\n",
    "\n",
    "train_indices = [1:3:data_length; 2:3:data_length]\n",
    "test_indices = collect(3:3:data_length)\n",
    "\n",
    "x_train = x_d[:, train_indices]\n",
    "y_train = onehot_labels[:,train_indices]\n",
    "\n",
    "x_test = x_d[:, test_indices]\n",
    "y_test = onehot_labels[:,test_indices]"
   ]
  },
  {
   "cell_type": "code",
   "execution_count": 15,
   "metadata": {},
   "outputs": [],
   "source": [
    "train_data = Iterators.repeated((x_train, y_train), 300);"
   ]
  },
  {
   "cell_type": "code",
   "execution_count": 16,
   "metadata": {},
   "outputs": [
    {
     "data": {
      "text/plain": [
       "accuracy (generic function with 1 method)"
      ]
     },
     "execution_count": 16,
     "metadata": {},
     "output_type": "execute_result"
    }
   ],
   "source": [
    "accuracy(x, y, model) = mean(onecold(model(x)) .== onecold(y))"
   ]
  },
  {
   "cell_type": "code",
   "execution_count": 17,
   "metadata": {},
   "outputs": [
    {
     "data": {
      "text/plain": [
       "confusion_matrix (generic function with 1 method)"
      ]
     },
     "execution_count": 17,
     "metadata": {},
     "output_type": "execute_result"
    }
   ],
   "source": [
    "# Function to build confusion matrix\n",
    "function confusion_matrix(X, y, model)\n",
    "    ŷ = onehotbatch(onecold(model(X)), 0:1)\n",
    "    # onecold([true, false, false], [:a, :b, :c]) -> :a\n",
    "    # onehotbatch -> matrix of cathegorical variables\n",
    "    y * transpose(ŷ)\n",
    "end"
   ]
  },
  {
   "cell_type": "code",
   "execution_count": 18,
   "metadata": {},
   "outputs": [
    {
     "data": {
      "text/plain": [
       "Chain(Dense(9, 2), softmax)"
      ]
     },
     "execution_count": 18,
     "metadata": {},
     "output_type": "execute_result"
    }
   ],
   "source": [
    "model = Chain(Flux.Dense(9, 2), softmax)\n",
    "\n",
    "# model = Chain(Dense(2, 3), Dense(3, 3))"
   ]
  },
  {
   "cell_type": "code",
   "execution_count": 19,
   "metadata": {},
   "outputs": [
    {
     "data": {
      "text/plain": [
       "loss (generic function with 1 method)"
      ]
     },
     "execution_count": 19,
     "metadata": {},
     "output_type": "execute_result"
    }
   ],
   "source": [
    "# loss(x, y) = logitcrossentropy(model(x), y)\n",
    "\n",
    "loss(x, y) = crossentropy(model(x), y) "
   ]
  },
  {
   "cell_type": "code",
   "execution_count": 20,
   "metadata": {},
   "outputs": [
    {
     "data": {
      "text/plain": [
       "#9 (generic function with 1 method)"
      ]
     },
     "execution_count": 20,
     "metadata": {},
     "output_type": "execute_result"
    }
   ],
   "source": [
    "evalcb = () -> @info(loss(x_train, y_train)) # callback to show loss"
   ]
  },
  {
   "cell_type": "code",
   "execution_count": 21,
   "metadata": {},
   "outputs": [
    {
     "data": {
      "text/plain": [
       "ADAM(0.001, (0.9, 0.999), IdDict{Any,Any}())"
      ]
     },
     "execution_count": 21,
     "metadata": {},
     "output_type": "execute_result"
    }
   ],
   "source": [
    "# optimiser = Descent(0.5)\n",
    "optimiser = ADAM()"
   ]
  },
  {
   "cell_type": "code",
   "execution_count": 22,
   "metadata": {},
   "outputs": [
    {
     "name": "stderr",
     "output_type": "stream",
     "text": [
      "┌ Info: Epoch 1\n",
      "└ @ Main /Users/vhafych/.julia/packages/Flux/Fj3bt/src/optimise/train.jl:121\n",
      "┌ Info: 6.004285\n",
      "└ @ Main In[20]:1\n",
      "┌ Info: Epoch 2\n",
      "└ @ Main /Users/vhafych/.julia/packages/Flux/Fj3bt/src/optimise/train.jl:121\n",
      "┌ Info: 1.4508251\n",
      "└ @ Main In[20]:1\n",
      "┌ Info: Epoch 3\n",
      "└ @ Main /Users/vhafych/.julia/packages/Flux/Fj3bt/src/optimise/train.jl:121\n",
      "┌ Info: 0.7198027\n",
      "└ @ Main In[20]:1\n"
     ]
    }
   ],
   "source": [
    "@epochs 3 Flux.train!(loss, Flux.params(model), train_data, optimiser, cb = throttle(evalcb, 10))"
   ]
  },
  {
   "cell_type": "code",
   "execution_count": 23,
   "metadata": {},
   "outputs": [
    {
     "data": {
      "text/plain": [
       "0.5022720387761285"
      ]
     },
     "execution_count": 23,
     "metadata": {},
     "output_type": "execute_result"
    }
   ],
   "source": [
    "accuracy_score = accuracy(x_test, y_test, model)"
   ]
  },
  {
   "cell_type": "code",
   "execution_count": 24,
   "metadata": {},
   "outputs": [
    {
     "data": {
      "text/plain": [
       "([1.0, 1.0, 1.0, 1.0, 1.0, 1.0, 1.0, 1.0, 1.0, 1.0  …  0.0, 0.0, 0.0, 0.0, 0.0, 0.0, 0.0, 0.0, 0.0, 0.0], [1.0, 1.0, 1.0, 1.0, 1.0, 1.0, 1.0, 1.0, 1.0, 1.0  …  0.0, 0.0, 0.0, 0.0, 0.0, 0.0, 0.0, 0.0, 0.0, 0.0])"
      ]
     },
     "execution_count": 24,
     "metadata": {},
     "output_type": "execute_result"
    }
   ],
   "source": [
    "c_range = 0.0:0.005:1\n",
    "\n",
    "function def_roc_vals(ind1, ind2; c_range = c_range)\n",
    "\n",
    "    tA_array = Float64[]\n",
    "    fA_array = Float64[]\n",
    "\n",
    "    for c in c_range\n",
    "\n",
    "        t_A = y_test[ind1,:]\n",
    "        t_B = y_test[ind2,:]\n",
    "\n",
    "        p = softmax(model(x_test), dims=1) .> c\n",
    "\n",
    "        p_A = p[ind1,:]\n",
    "        p_B = p[ind2,:]\n",
    "\n",
    "        true_A = sum(t_A.*p_A)/sum(t_A)\n",
    "        false_A = sum(.!t_A.*p_A) / sum(t_B)\n",
    "\n",
    "        append!(tA_array, true_A)\n",
    "        append!(fA_array, false_A)\n",
    "    end\n",
    "    \n",
    "    return (fA_array, tA_array)\n",
    "    \n",
    "end\n",
    "\n",
    "A_f, A_t = def_roc_vals(1, 2)"
   ]
  },
  {
   "cell_type": "code",
   "execution_count": 25,
   "metadata": {},
   "outputs": [
    {
     "data": {
      "image/png": "[encoded data removed]",
      "text/plain": [
       "Figure(PyObject <Figure size 500x500 with 1 Axes>)"
      ]
     },
     "metadata": {},
     "output_type": "display_data"
    },
    {
     "data": {
      "text/plain": [
       "(-0.1, 1.1)"
      ]
     },
     "execution_count": 25,
     "metadata": {},
     "output_type": "execute_result"
    }
   ],
   "source": [
    "colors_a = plt.cm.terrain(range(0, stop=1, length = length(c_range)));\n",
    "\n",
    "fig, ax = plt.subplots(1,1, figsize=(5,5))\n",
    "\n",
    "ax.scatter(A_f, A_t, alpha=0.5, color=PyPlot.ColorMap(\"tab10\").colors[1])\n",
    "\n",
    "ax.plot(0:0.1:1, 0:0.1:1, color=\"gray\")\n",
    "ax.set_xlabel(\"False Predicted\")\n",
    "ax.set_ylabel(\"True Predicted\")\n",
    "ax.set_xlim(-0.1,1.1)\n",
    "ax.set_ylim(-0.1,1.1)"
   ]
  },
  {
   "cell_type": "code",
   "execution_count": null,
   "metadata": {},
   "outputs": [],
   "source": []
  }
 ],
 "metadata": {
  "kernelspec": {
   "display_name": "Julia 1.4.2",
   "language": "julia",
   "name": "julia-1.4"
  },
  "language_info": {
   "file_extension": ".jl",
   "mimetype": "application/julia",
   "name": "julia",
   "version": "1.4.2"
  }
 },
 "nbformat": 4,
 "nbformat_minor": 4
}
