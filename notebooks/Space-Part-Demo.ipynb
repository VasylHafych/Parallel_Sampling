{
 "cells": [
  {
   "cell_type": "code",
   "execution_count": 1,
   "metadata": {},
   "outputs": [
    {
     "data": {
      "text/plain": [
       "Plots.PyPlotBackend()"
      ]
     },
     "execution_count": 1,
     "metadata": {},
     "output_type": "execute_result"
    }
   ],
   "source": [
    "using IntervalSets\n",
    "using Distributions\n",
    "using Random, LinearAlgebra, Statistics, Distributions, StatsBase, ArraysOfArrays\n",
    "using JLD2\n",
    "using ValueShapes\n",
    "using TypedTables\n",
    "import PyPlot\n",
    "using Plots\n",
    "using BAT\n",
    "pyplot()"
   ]
  },
  {
   "cell_type": "code",
   "execution_count": 2,
   "metadata": {},
   "outputs": [
    {
     "data": {
      "text/plain": [
       "plot_tree (generic function with 1 method)"
      ]
     },
     "execution_count": 2,
     "metadata": {},
     "output_type": "execute_result"
    }
   ],
   "source": [
    "function make_2d_hist(samples, ind1, ind2; bins=100)\n",
    "    \n",
    "    smpls_flat = flatview(unshaped.(samples.v))\n",
    "    smpls_w = samples.weight\n",
    "    \n",
    "    if length(bins) > 1\n",
    "        binsx, binsy = bins\n",
    "    else\n",
    "        binsx = range(minimum(smpls_flat[ind1,:]), maximum(smpls_flat[ind1,:]), length=bins)\n",
    "        binsy = range(minimum(smpls_flat[ind2,:]), maximum(smpls_flat[ind2,:]), length=bins)\n",
    "    end\n",
    "    \n",
    "    histogram2D = fit(Histogram, (smpls_flat[ind1,:],smpls_flat[ind2,:]), weights(smpls_w), (binsx, binsy))\n",
    "    histogram_1Dx = fit(Histogram, smpls_flat[ind1,:], weights(smpls_w), binsx)\n",
    "    histogram_1Dy = fit(Histogram, smpls_flat[ind2,:], weights(smpls_w), binsy)\n",
    "    \n",
    "    histogram2D = normalize(histogram2D, mode=:probability)\n",
    "    histogram_1Dx = normalize(histogram_1Dx, mode=:probability)\n",
    "    histogram_1Dy = normalize(histogram_1Dy, mode=:probability)\n",
    "    \n",
    "    return (res = histogram2D, x = histogram_1Dx, y = histogram_1Dy)\n",
    "end\n",
    "\n",
    "function plot_tree(tree, axes::Array{Int64,1}, plot_ax; kwargs...)\n",
    "    if tree.terminated_leaf == true\n",
    "        r = PyPlot.matplotlib.patches.Rectangle([tree.bounds[axes[1],1],tree.bounds[axes[2],1]], tree.bounds[axes[1],2]-tree.bounds[axes[1],1], tree.bounds[axes[2],2]-tree.bounds[axes[2],1], fill=false, linewidth=0.8, color=\"black\", alpha=1,; kwargs...,) #alpha=0.0, facecolor=color[i], edgecolor='k', linewidth=2.0)\n",
    "        plot_ax.add_patch(r)\n",
    "    else\n",
    "        plot_tree(tree.left_child, axes, plot_ax; kwargs...)\n",
    "        plot_tree(tree.right_child, axes, plot_ax; kwargs...)\n",
    "    end\n",
    "end"
   ]
  },
  {
   "cell_type": "code",
   "execution_count": 3,
   "metadata": {},
   "outputs": [
    {
     "name": "stderr",
     "output_type": "stream",
     "text": [
      "┌ Info: Initializing new RNG of type Random123.Philox4x{UInt64, 10}\n",
      "└ @ BAT /Users/vhafych/MPP-Server/gitrepos/BAT.jl/src/algotypes/bat_default.jl:44\n"
     ]
    }
   ],
   "source": [
    "ϕ = 0:1:10\n",
    "x = exp.(0.35 .* ϕ) .* cos.(ϕ)\n",
    "y = exp.(0.35.* ϕ) .* sin.(ϕ)\n",
    "\n",
    "mixture_model = MixtureModel(MvNormal[MvNormal([x[i],y[i]], [0.05*sqrt(x[i]^2+y[i]^2), 0.05*sqrt(x[i]^2+y[i]^2) ]) for i in 1:length(x)])\n",
    "\n",
    "iid_distributions = NamedTupleDist(a = mixture_model,)\n",
    "samples_iid = bat_sample(iid_distributions, IIDSampling(nsamples=2*10^3)).result;"
   ]
  },
  {
   "cell_type": "code",
   "execution_count": 4,
   "metadata": {},
   "outputs": [],
   "source": [
    "# construct partition tree based on the samples_iid \n",
    "\n",
    "partition_tree, cost_values  = BAT.partition_space(samples_iid, 40, BAT.KDTreePartitioning());"
   ]
  },
  {
   "cell_type": "code",
   "execution_count": 5,
   "metadata": {},
   "outputs": [
    {
     "data": {
      "image/png": "[encoded data removed]",
      "text/plain": [
       "PyPlot.Figure(PyObject <Figure size 582.677x582.677 with 1 Axes>)"
      ]
     },
     "metadata": {},
     "output_type": "display_data"
    },
    {
     "data": {
      "text/plain": [
       "PyObject <matplotlib.patches.Rectangle object at 0x7fb5fd6ef490>"
      ]
     },
     "execution_count": 5,
     "metadata": {},
     "output_type": "execute_result"
    }
   ],
   "source": [
    "# histogram of samples and tree boudnaries\n",
    "\n",
    "hist_smpls = make_2d_hist(samples_iid, 1,2, bins=100).res;\n",
    "\n",
    "fig, ax1 = PyPlot.plt.subplots(figsize=(5.826767123287671, 5.826767123287671),)\n",
    "\n",
    "ax1.pcolormesh(midpoints(hist_smpls.edges[1]), midpoints(hist_smpls.edges[2]), log.(hist_smpls.weights'), cmap=\"Blues\")\n",
    "\n",
    "plot_tree(partition_tree, [1,2], ax1, linewidth=0.6, color=:gray, alpha=1)"
   ]
  },
  {
   "cell_type": "code",
   "execution_count": 6,
   "metadata": {},
   "outputs": [
    {
     "data": {
      "text/plain": [
       "2×2 Matrix{Float64}:\n",
       " -32.2498  -27.7542\n",
       " -22.2398  -19.2028"
      ]
     },
     "execution_count": 6,
     "metadata": {},
     "output_type": "execute_result"
    }
   ],
   "source": [
    "subspaces_rect_bounds = BAT.get_tree_par_bounds(partition_tree)\n",
    "\n",
    "subspaces_rect_bounds[1] # columns show minimum/maximum values of each rectangle "
   ]
  },
  {
   "cell_type": "code",
   "execution_count": 7,
   "metadata": {},
   "outputs": [],
   "source": [
    "# Define new minimum/maximum value\n",
    "\n",
    "lo_bounds = [-50., -50.]\n",
    "hi_bounds = [50., 50.]\n",
    "\n",
    "BAT.extend_tree_bounds!(partition_tree, lo_bounds, hi_bounds);"
   ]
  },
  {
   "cell_type": "code",
   "execution_count": 8,
   "metadata": {},
   "outputs": [
    {
     "data": {
      "image/png": "[encoded data removed]",
      "text/plain": [
       "PyPlot.Figure(PyObject <Figure size 582.677x582.677 with 1 Axes>)"
      ]
     },
     "metadata": {},
     "output_type": "display_data"
    },
    {
     "data": {
      "text/plain": [
       "PyObject <matplotlib.patches.Rectangle object at 0x7fb5fd9b63d0>"
      ]
     },
     "execution_count": 8,
     "metadata": {},
     "output_type": "execute_result"
    }
   ],
   "source": [
    "# plot new mimimum values \n",
    "\n",
    "fig, ax1 = PyPlot.plt.subplots(figsize=(5.826767123287671, 5.826767123287671),)\n",
    "\n",
    "ax1.pcolormesh(midpoints(hist_smpls.edges[1]), midpoints(hist_smpls.edges[2]), log.(hist_smpls.weights'), cmap=\"Blues\")\n",
    "\n",
    "plot_tree(partition_tree, [1,2], ax1, linewidth=0.6, color=:gray, alpha=1)"
   ]
  },
  {
   "cell_type": "code",
   "execution_count": null,
   "metadata": {},
   "outputs": [],
   "source": []
  }
 ],
 "metadata": {
  "kernelspec": {
   "display_name": "",
   "name": ""
  },
  "language_info": {
   "file_extension": ".jl",
   "mimetype": "application/julia",
   "name": "julia",
   "version": "1.6.0"
  }
 },
 "nbformat": 4,
 "nbformat_minor": 4
}
