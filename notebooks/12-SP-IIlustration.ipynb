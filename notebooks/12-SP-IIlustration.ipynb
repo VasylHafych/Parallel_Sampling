{
 "cells": [
  {
   "cell_type": "code",
   "execution_count": 1,
   "metadata": {},
   "outputs": [],
   "source": [
    "using Distributions \n",
    "using IntervalSets\n",
    "using ValueShapes\n",
    "using ArraysOfArrays\n",
    "using StatsBase \n",
    "using LinearAlgebra\n",
    "using Random123\n",
    "using HCubature\n",
    "using HDF5\n",
    "\n",
    "using KDTree\n",
    "using BAT\n",
    "# using BATPar\n",
    "\n",
    "using LaTeXStrings"
   ]
  },
  {
   "cell_type": "code",
   "execution_count": 2,
   "metadata": {},
   "outputs": [],
   "source": [
    "import PyPlot\n",
    "\n",
    "plt = PyPlot\n",
    "\n",
    "SMALL_SIZE = 9\n",
    "MEDIUM_SIZE = 9\n",
    "BIGGER_SIZE = 10\n",
    "\n",
    "plt.rc(\"font\", size=SMALL_SIZE)          # controls default text sizes\n",
    "plt.rc(\"axes\", titlesize=SMALL_SIZE)     # fontsize of the axes title\n",
    "plt.rc(\"axes\", labelsize=MEDIUM_SIZE)    # fontsize of the x and y labels\n",
    "plt.rc(\"xtick\", labelsize=SMALL_SIZE)    # fontsize of the tick labels\n",
    "plt.rc(\"ytick\", labelsize=SMALL_SIZE)    # fontsize of the tick labels\n",
    "plt.rc(\"legend\", fontsize=SMALL_SIZE)    # legend fontsize\n",
    "plt.rc(\"figure\", titlesize=BIGGER_SIZE)  # fontsize of the figure title\n",
    "# plt.rc(\"text\", usetex=true)\n",
    "\n",
    "colors = vcat([0 0 0 0], plt.cm.YlOrRd(range(0, stop=1, length=10))[2:end,:]);\n",
    "# colors = vcat([0 0 0 0.1], plt.cm.Blues(range(0, stop=1, length=10))[3:end,:])"
   ]
  },
  {
   "cell_type": "code",
   "execution_count": 3,
   "metadata": {},
   "outputs": [],
   "source": [
    "# prior = NamedTupleDist(a = [[1.0 .. 2.0 for i in 1:2]...],);\n",
    "# outp = bat_read(\"../../MCMC_publication/Saved_samples/samples_2.hdf5\")\n",
    "# samples = varshape(prior).(outp);"
   ]
  },
  {
   "cell_type": "code",
   "execution_count": 4,
   "metadata": {},
   "outputs": [
    {
     "name": "stderr",
     "output_type": "stream",
     "text": [
      "┌ Info: Initializing new RNG of type Philox4x{UInt64,10}\n",
      "└ @ BAT /Users/vhafych/MPP-Server/gitrepos/BAT.jl/src/algotypes/bat_default.jl:44\n",
      "┌ Info: Trying to generate 10 viable MCMC chain(s).\n",
      "└ @ BAT /Users/vhafych/MPP-Server/gitrepos/BAT.jl/src/samplers/mcmc/mcmc_tuner.jl:193\n",
      "┌ Info: Selected 10 MCMC chain(s).\n",
      "└ @ BAT /Users/vhafych/MPP-Server/gitrepos/BAT.jl/src/samplers/mcmc/mcmc_tuner.jl:304\n",
      "┌ Info: Begin tuning of 10 MCMC chain(s).\n",
      "└ @ BAT /Users/vhafych/MPP-Server/gitrepos/BAT.jl/src/samplers/mcmc/mcmc_tuner.jl:65\n",
      "┌ Info: MCMC Tuning cycle 1 finished, 10 chains, 2 tuned, 10 converged.\n",
      "└ @ BAT /Users/vhafych/MPP-Server/gitrepos/BAT.jl/src/samplers/mcmc/mcmc_tuner.jl:98\n",
      "┌ Info: MCMC Tuning cycle 2 finished, 10 chains, 10 tuned, 10 converged.\n",
      "└ @ BAT /Users/vhafych/MPP-Server/gitrepos/BAT.jl/src/samplers/mcmc/mcmc_tuner.jl:98\n",
      "┌ Info: MCMC tuning of 10 chains successful after 2 cycle(s).\n",
      "└ @ BAT /Users/vhafych/MPP-Server/gitrepos/BAT.jl/src/samplers/mcmc/mcmc_tuner.jl:102\n"
     ]
    }
   ],
   "source": [
    "g(x;) = 0.8*pdf.(Normal(-5,0.9), x)+1.2*pdf.(Normal(-1.0,0.4), x) + 0.8*pdf.(Normal(1.0,0.4), x) + 0.8*pdf.(Normal(5,0.9), x) # 2\n",
    "\n",
    "likelihood = params -> LogDVal((log(g(params.a))))\n",
    "prior = NamedTupleDist(a = -10. .. 10.);\n",
    "posterior = PosteriorDensity(likelihood, prior);\n",
    "\n",
    "samples, stats_tmp = bat_sample(posterior, (1000, 10), MetropolisHastings());"
   ]
  },
  {
   "cell_type": "code",
   "execution_count": 5,
   "metadata": {},
   "outputs": [],
   "source": [
    "KDTree.evaluate_total_cost(data::Data) = KDTree.cost_f_1(data)"
   ]
  },
  {
   "cell_type": "code",
   "execution_count": 6,
   "metadata": {},
   "outputs": [],
   "source": [
    "smpl = flatview(unshaped.(samples.v))\n",
    "weights_LogLik = samples.logd\n",
    "weights_Histogram = samples.weight;\n",
    "\n",
    "data_kdtree = Data(smpl[:,1:5:end], weights_Histogram[1:5:end], weights_LogLik[1:5:end]);"
   ]
  },
  {
   "cell_type": "code",
   "execution_count": 7,
   "metadata": {},
   "outputs": [
    {
     "data": {
      "text/plain": [
       "([-8.271304648582863, -7.934337763356851, -7.597370878130839, -7.260403992904827, -6.923437107678816, -6.586470222452804, -6.249503337226792, -5.91253645200078, -5.575569566774768, -5.238602681548756  …  5.207370760457608, 5.54433764568362, 5.881304530909632, 6.218271416135644, 6.555238301361656, 6.892205186587668, 7.229172071813679, 7.566138957039691, 7.903105842265703, 8.240072727491714], Any[Inf, Inf, 2.505951547659314e8, 2.482319364346149e8, 2.4459166400410244e8, 2.3405624842282015e8, 2.2338010096406925e8, 2.118024284144432e8, 1.912483567279723e8, 1.6624255072962305e8  …  1.5127309584696755e8, 1.7587114499838147e8, 1.989607394575715e8, 2.2108548790940115e8, 2.3352597370859164e8, 2.4265755269067705e8, 2.5138151119006646e8, Inf, Inf, Inf], 0.15286748206743175, 4.2302050402178586e7)"
      ]
     },
     "execution_count": 7,
     "metadata": {},
     "output_type": "execute_result"
    }
   ],
   "source": [
    "cost_1 = KDTree.evaluate_total_cost(data_kdtree)\n",
    "output_1 = KDTree.find_min_along_axis(data_kdtree, 1)"
   ]
  },
  {
   "cell_type": "code",
   "execution_count": 8,
   "metadata": {},
   "outputs": [],
   "source": [
    "data_kdtree_2 = Data(collect(transpose(data_kdtree.samples[data_kdtree.samples[1,:] .> output_1[3]])), data_kdtree.weights[data_kdtree.samples[1,:] .> output_1[3]], data_kdtree.loglik[data_kdtree.samples[1,:] .> output_1[3]]);\n",
    "data_kdtree_3 = Data(collect(transpose(data_kdtree.samples[data_kdtree.samples[1,:] .< output_1[3]])), data_kdtree.weights[data_kdtree.samples[1,:] .< output_1[3]], data_kdtree.loglik[data_kdtree.samples[1,:] .< output_1[3]]);"
   ]
  },
  {
   "cell_type": "code",
   "execution_count": 9,
   "metadata": {},
   "outputs": [
    {
     "data": {
      "text/plain": [
       "([-8.271304648582863, -8.099394134360029, -7.9274836201371945, -7.755573105914361, -7.583662591691526, -7.411752077468693, -7.239841563245858, -7.0679310490230245, -6.896020534800191, -6.724110020577356  …  -1.3948840796695015, -1.2229735654466674, -1.0510630512238333, -0.8791525370009993, -0.7072420227781653, -0.5353315085553312, -0.3634209943324972, -0.19151048010966312, -0.019599965886829097, 0.15231054833600494], Any[Inf, Inf, Inf, 2.49835359868138e7, 2.485390434582837e7, 2.485390434582837e7, 2.4377515745292306e7, 2.4266616846732613e7, 2.3547910464969818e7, 2.2321035772036508e7  …  3.649822226628077e6, 5.644220540836546e6, 8.804338140650813e6, 1.2491324072942106e7, 1.6110979259006968e7, 1.9204699138560735e7, 2.165857238135804e7, 2.4039857832172997e7, 2.4939813561117113e7, Inf], -2.770168193452174, 1.4513873418703198e6)"
      ]
     },
     "execution_count": 9,
     "metadata": {},
     "output_type": "execute_result"
    }
   ],
   "source": [
    "cost_2 = KDTree.evaluate_total_cost(data_kdtree_2)\n",
    "cost_3 = KDTree.evaluate_total_cost(data_kdtree_3)\n",
    "\n",
    "output_2 = KDTree.find_min_along_axis(data_kdtree_2, 1)\n",
    "output_3 = KDTree.find_min_along_axis(data_kdtree_3, 1)"
   ]
  },
  {
   "cell_type": "code",
   "execution_count": 10,
   "metadata": {},
   "outputs": [],
   "source": [
    "data_kdtree_4 = Data(collect(transpose(data_kdtree_3.samples[data_kdtree_3.samples[1,:] .> output_3[3]])), data_kdtree_3.weights[data_kdtree_3.samples[1,:] .> output_3[3]], data_kdtree_3.loglik[data_kdtree_3.samples[1,:] .> output_3[3]]);\n",
    "data_kdtree_5 = Data(collect(transpose(data_kdtree_3.samples[data_kdtree_3.samples[1,:] .< output_3[3]])), data_kdtree_3.weights[data_kdtree_3.samples[1,:] .< output_3[3]], data_kdtree_3.loglik[data_kdtree_3.samples[1,:] .< output_3[3]]);"
   ]
  },
  {
   "cell_type": "code",
   "execution_count": 11,
   "metadata": {},
   "outputs": [
    {
     "data": {
      "text/plain": [
       "([-8.271304648582863, -8.159059163920533, -8.046813679258202, -7.934568194595872, -7.822322709933543, -7.710077225271212, -7.597831740608882, -7.4855862559465525, -7.373340771284222, -7.261095286621892  …  -3.7814852620896597, -3.6692397774273298, -3.556994292765, -3.4447488081026694, -3.3325033234403394, -3.2202578387780094, -3.1080123541156794, -2.995766869453349, -2.883521384791019, -2.771275900128689], Any[Inf, Inf, Inf, Inf, 895279.8613110692, 895279.8613110692, 881432.9056116818, 881432.9056116818, 855136.4160466007, 832060.1006671094  …  641502.7067814415, 694641.449724266, 745218.3978660282, 795605.143509911, 833038.5457763853, 857834.6389528658, 872487.7343064522, 925529.5500371181, Inf, Inf], -5.01618559337529, 168731.24183261883)"
      ]
     },
     "execution_count": 11,
     "metadata": {},
     "output_type": "execute_result"
    }
   ],
   "source": [
    "cost_4 = KDTree.evaluate_total_cost(data_kdtree_4)\n",
    "cost_5 = KDTree.evaluate_total_cost(data_kdtree_5)\n",
    "\n",
    "output_4 = KDTree.find_min_along_axis(data_kdtree_4, 1)\n",
    "output_5 = KDTree.find_min_along_axis(data_kdtree_5, 1)"
   ]
  },
  {
   "cell_type": "code",
   "execution_count": 12,
   "metadata": {},
   "outputs": [
    {
     "data": {
      "text/plain": [
       "0:1:3"
      ]
     },
     "execution_count": 12,
     "metadata": {},
     "output_type": "execute_result"
    }
   ],
   "source": [
    "cost_array = [cost_1, output_1[4], output_3[4]+cost_2, output_2[4]+cost_5+cost_4]\n",
    "cut_range = 0:1:3"
   ]
  },
  {
   "cell_type": "code",
   "execution_count": 23,
   "metadata": {},
   "outputs": [
    {
     "data": {
      "image/png": "[encoded data removed]",
      "text/plain": [
       "PyPlot.Figure(PyObject <Figure size 582.677x407.874 with 3 Axes>)"
      ]
     },
     "metadata": {},
     "output_type": "display_data"
    },
    {
     "data": {
      "text/plain": [
       "(0.0, 1300.0)"
      ]
     },
     "execution_count": 23,
     "metadata": {},
     "output_type": "execute_result"
    }
   ],
   "source": [
    "fig = plt.figure(figsize=(5.826767123287671, 4.07873698630137),)\n",
    "\n",
    "fig.subplots_adjust(hspace=0.05, wspace=0.02)\n",
    "\n",
    "ax1 = plt.subplot2grid((3, 2), (1, 0), rowspan=2, colspan=1, yticklabels=[],  yticks=[], )\n",
    "ax2 = plt.subplot2grid((3, 2), (0, 0), rowspan=1, colspan=1, xticklabels=[], yticklabels=[], xticks=[], yticks=[], )\n",
    "# ax3 = plt.subplot2grid((3, 2), (1, 1), rowspan=3, colspan=1, xticklabels=[], yticklabels=[], xticks=[], yticks=[], fc=\"orange\",)\n",
    "ax3 = plt.subplot2grid((3, 2), (1, 1), rowspan=3, colspan=1,  )\n",
    "\n",
    "ax2.hist(data_kdtree.samples[1,:], weights=data_kdtree.weights, bins=50, color=\"gray\", alpha=0.5, label=\"Density\");\n",
    "ax2.vlines(output_1[3], 0, 1700, color=\"red\", ls=\"--\", label=\"Cut position\")\n",
    "ax2.vlines(output_3[3], 0, 1700, color=\"red\", ls=\"--\")\n",
    "ax2.vlines(output_2[3], 0, 1700, color=\"red\", ls=\"--\")\n",
    "ax2.get_xaxis().set_visible(false) \n",
    "# ax2.legend(loc=\"upper left\", frameon=true, framealpha=0.9, ncol=1)\n",
    "ax2.set_ylabel(L\"P(\\lambda)\")\n",
    "\n",
    "# ax1.plot(output_1[1], output_1[2], color=\"steelblue\") #dodgerblue skyblue lightskyblue lightblue\n",
    "# ax1.plot(output_2[1], cost_3 .+ output_2[2], color=\"lightskyblue\")\n",
    "# ax1.plot(output_3[1], cost_2 .+ output_3[2], color=\"lightskyblue\")\n",
    "# ax1.plot(output_4[1],  cost_2 + cost_5 .+ output_4[2], color=\"lightblue\")\n",
    "# ax1.plot(output_5[1], cost_2 + cost_4 .+ output_5[2], color=\"lightblue\")\n",
    "# ax1.plot(output_2[1], cost_5+cost_4 .+ output_2[2], color=\"lightblue\")\n",
    "\n",
    "ax1.plot(output_1[1], output_1[2], color=PyPlot.ColorMap(\"tab20c\").colors[1]) #dodgerblue skyblue lightskyblue lightblue\n",
    "ax1.plot(output_2[1], cost_3 .+ output_2[2], color=PyPlot.ColorMap(\"tab20c\").colors[2])\n",
    "ax1.plot(output_3[1], cost_2 .+ output_3[2], color=PyPlot.ColorMap(\"tab20c\").colors[2])\n",
    "ax1.plot(output_4[1],  cost_2 + cost_5 .+ output_4[2], color=PyPlot.ColorMap(\"tab20c\").colors[4])\n",
    "ax1.plot(output_5[1], cost_2 + cost_4 .+ output_5[2], color=PyPlot.ColorMap(\"tab20c\").colors[4])\n",
    "ax1.plot(output_2[1], cost_5+cost_4 .+ output_2[2], color=PyPlot.ColorMap(\"tab20c\").colors[4])\n",
    "\n",
    "ax1.hlines(output_3[4]+cost_2, -10,10, color=\"gray\", ls=\"--\", alpha=0.5)\n",
    "ax1.hlines(output_2[4]+cost_5+cost_4, -10,10, color=\"gray\", ls=\"--\", alpha=0.5)\n",
    "ax1.hlines(cost_1, -10,10, color=\"gray\", ls=\"--\", alpha=0.5 )\n",
    "ax1.hlines(output_1[4], -10,10, color=\"gray\", ls=\"--\", alpha=0.5)\n",
    "\n",
    "ax1.vlines(output_1[3], output_1[4], cost_1, color=\"red\", alpha=0.5, ls=\"--\")\n",
    "ax1.vlines(output_3[3], output_3[4]+cost_2, output_1[4], color=\"red\", alpha=0.5, ls=\"--\")\n",
    "ax1.vlines(output_2[3], output_2[4]+cost_5+cost_4, output_3[4]+cost_2, color=\"red\", alpha=0.5, ls=\"--\")\n",
    "# ax2.vlines(output_3[3], 0, 700, color=\"red\")\n",
    "# ax2.vlines(output_2[3], 0, 700, color=\"red\")\n",
    "\n",
    "ax1.set_xlabel(L\"\\lambda\")\n",
    "\n",
    "ax3.plot(collect(cut_range), cost_array, color=\"black\", \"-o\", ms=4, mfc=\"k\")\n",
    "ax3.yaxis.tick_right()\n",
    "ax3.yaxis.set_ticks_position(\"right\")\n",
    "ax3.set_xlabel(\"# cuts\")\n",
    "ax3.set_ylabel(\"W\")\n",
    "ax3.yaxis.set_label_position(\"right\")\n",
    "\n",
    "ax3.hlines(output_3[4]+cost_2, 0,4, color=\"gray\", ls=\"--\", alpha=0.2)\n",
    "ax3.hlines(output_2[4]+cost_5+cost_4, 0,4, color=\"gray\", ls=\"--\", alpha=0.2)\n",
    "ax3.hlines(cost_1, 0,4, color=\"gray\", ls=\"--\", alpha=0.2)\n",
    "ax3.hlines(output_1[4], 0,4, color=\"gray\", ls=\"--\", alpha=0.2)\n",
    "ax3.set_xticks(collect(cut_range))\n",
    "ax3.set_xlim(-0.1, 3.1)\n",
    "\n",
    "ax2.set_xlim(-8., 8.)\n",
    "ax1.set_xlim(-8., 8.)\n",
    "\n",
    "ax2.set_ylim(0.0, 1300.)\n",
    "\n",
    "# fig.savefig(\"../plots/fig-b.pdf\", bbox_inches = \"tight\")"
   ]
  },
  {
   "cell_type": "code",
   "execution_count": null,
   "metadata": {},
   "outputs": [],
   "source": []
  },
  {
   "cell_type": "code",
   "execution_count": null,
   "metadata": {},
   "outputs": [],
   "source": []
  }
 ],
 "metadata": {
  "kernelspec": {
   "display_name": "Julia 1.4.2",
   "language": "julia",
   "name": "julia-1.4"
  },
  "language_info": {
   "file_extension": ".jl",
   "mimetype": "application/julia",
   "name": "julia",
   "version": "1.4.2"
  }
 },
 "nbformat": 4,
 "nbformat_minor": 4
}
