{
 "cells": [
  {
   "cell_type": "code",
   "execution_count": 1,
   "metadata": {},
   "outputs": [],
   "source": [
    "using IntervalSets\n",
    "using Distributions\n",
    "using Random, LinearAlgebra, Statistics, Distributions, StatsBase, ArraysOfArrays\n",
    "using JLD2\n",
    "using ValueShapes\n",
    "using TypedTables\n",
    "using Measurements\n",
    "using TypedTables\n",
    "using HypothesisTests\n",
    "using LaTeXStrings\n",
    "using HDF5\n",
    "using CSV\n",
    "using MultivariateStats\n",
    "using HypothesisTests"
   ]
  },
  {
   "cell_type": "code",
   "execution_count": 2,
   "metadata": {},
   "outputs": [
    {
     "data": {
      "text/plain": [
       "Plots.PyPlotBackend()"
      ]
     },
     "execution_count": 2,
     "metadata": {},
     "output_type": "execute_result"
    }
   ],
   "source": [
    "# using PyPlot\n",
    "using Plots\n",
    "pyplot()"
   ]
  },
  {
   "cell_type": "code",
   "execution_count": 3,
   "metadata": {},
   "outputs": [],
   "source": [
    "using PyPlot"
   ]
  },
  {
   "cell_type": "code",
   "execution_count": 4,
   "metadata": {},
   "outputs": [],
   "source": [
    "using BAT"
   ]
  },
  {
   "cell_type": "code",
   "execution_count": 117,
   "metadata": {},
   "outputs": [
    {
     "name": "stderr",
     "output_type": "stream",
     "text": [
      "┌ Info: Initializing new RNG of type Random123.Philox4x{UInt64,10}\n",
      "└ @ BAT /Users/vhafych/MPP-Server/gitrepos/BAT.jl/src/algotypes/bat_default.jl:44\n",
      "┌ Info: Using sampling algorithm RandSampling()\n",
      "└ @ BAT /Users/vhafych/MPP-Server/gitrepos/BAT.jl/src/algotypes/bat_default.jl:44\n",
      "┌ Info: Initializing new RNG of type Random123.Philox4x{UInt64,10}\n",
      "└ @ BAT /Users/vhafych/MPP-Server/gitrepos/BAT.jl/src/algotypes/bat_default.jl:44\n",
      "┌ Info: Using sampling algorithm RandSampling()\n",
      "└ @ BAT /Users/vhafych/MPP-Server/gitrepos/BAT.jl/src/algotypes/bat_default.jl:44\n"
     ]
    }
   ],
   "source": [
    "iid_samples_1 = bat_sample(NamedTupleDist(a=Normal()), 10^3).result;\n",
    "iid_samples_2 = bat_sample(NamedTupleDist(a=Normal()), 10^3).result;"
   ]
  },
  {
   "cell_type": "code",
   "execution_count": 118,
   "metadata": {},
   "outputs": [],
   "source": [
    "# mcmc_samples = bat_sample(PosteriorDensity(x -> LogDVal(0.0), NamedTupleDist(a=Normal())), (1000, 10), MetropolisHastings()).result;"
   ]
  },
  {
   "cell_type": "code",
   "execution_count": 119,
   "metadata": {},
   "outputs": [],
   "source": [
    "iid_flat_1 = collect(flatview(unshaped.(iid_samples_1.v))[1,:]);\n",
    "iid_flat_2 = collect(flatview(unshaped.(iid_samples_2.v))[1,:]);\n",
    "mcmc_flat, mcmc_w = collect(flatview(unshaped.(mcmc_samples.v))[1,:]), mcmc_samples.weight;"
   ]
  },
  {
   "cell_type": "code",
   "execution_count": 129,
   "metadata": {},
   "outputs": [
    {
     "data": {
      "image/png": "[encoded data removed]"
     },
     "execution_count": 129,
     "metadata": {},
     "output_type": "execute_result"
    }
   ],
   "source": [
    "bins = range(-2,stop=2, length=50)\n",
    "hist_iid_1 = fit(Histogram, iid_flat_1, bins)\n",
    "hist_iid_2 = fit(Histogram, iid_flat_2, bins)\n",
    "# hist_iid_1 = normalize(hist_iid_1, mode=:pdf)\n",
    "# hist_iid_2 = normalize(hist_iid_2, mode=:pdf)\n",
    "hist_mcmc = fit(Histogram, mcmc_flat, weights(mcmc_w), bins)\n",
    "\n",
    "Plots.plot(hist_iid_1, alpha=0.1)\n",
    "Plots.plot!(hist_iid_2, alpha=0.2)\n",
    "# Plots.plot!(hist_mcmc, alpha=0.1)"
   ]
  },
  {
   "cell_type": "code",
   "execution_count": 131,
   "metadata": {},
   "outputs": [
    {
     "data": {
      "text/plain": [
       "0.35335745229724663"
      ]
     },
     "execution_count": 131,
     "metadata": {},
     "output_type": "execute_result"
    }
   ],
   "source": [
    "pvalue(ChisqTest(hcat(hist_iid_1.weights, hist_iid_2.weights)))"
   ]
  },
  {
   "cell_type": "code",
   "execution_count": 132,
   "metadata": {},
   "outputs": [
    {
     "data": {
      "text/plain": [
       "Pearson's Chi-square Test\n",
       "-------------------------\n",
       "Population details:\n",
       "    parameter of interest:   Multinomial Probabilities\n",
       "    value under h_0:         [0.002378411749487287, 0.002642679721652541, 0.002642679721652541, 0.00449255552680932, 0.004756823498974574, 0.008192307137122877, 0.003964019582478811, 0.007399503220627115, 0.009777914970114402, 0.006870967276296607  …  0.011817108797347549, 0.006827662860689695, 0.005777253189814357, 0.0036764338480636816, 0.005777253189814357, 0.0034138314303448474, 0.0034138314303448474, 0.0028886265949071787, 0.0005252048354376688, 0.002626024177188344]\n",
       "    point estimate:          [0.003161222339304531, 0.003161222339304531, 0.002107481559536354, 0.004214963119072708, 0.006322444678609062, 0.008956796628029505, 0.0026343519494204425, 0.011064278187565859, 0.009483667017913594, 0.007376185458377239  …  0.012644889357218124, 0.007376185458377239, 0.003161222339304531, 0.0026343519494204425, 0.006322444678609062, 0.003161222339304531, 0.004214963119072708, 0.0036880927291886197, 0.0005268703898840885, 0.0015806111696522655]\n",
       "    95% confidence interval: [(0.0, 0.0131), (0.0, 0.0131), (0.0, 0.012), (0.0, 0.0141), (0.0, 0.0162), (0.0, 0.0189), (0.0, 0.0125), (0.0021, 0.021), (0.0005, 0.0194), (0.0, 0.0173)  …  (0.0037, 0.0226), (0.0, 0.0173), (0.0, 0.0131), (0.0, 0.0125), (0.0, 0.0162), (0.0, 0.0131), (0.0, 0.0141), (0.0, 0.0136), (0.0, 0.0104), (0.0, 0.0115)]\n",
       "\n",
       "Test summary:\n",
       "    outcome with 95% confidence: fail to reject h_0\n",
       "    one-sided p-value:           0.3534\n",
       "\n",
       "Details:\n",
       "    Sample size:        1898\n",
       "    statistic:          51.08664622878478\n",
       "    degrees of freedom: 48\n",
       "    residuals:          [0.6992963724296423, 0.4394508346405438, -0.45356595780886966, -0.18043008805623778, 0.9889544140083071, 0.36797347215952597, -0.9200751595372222, 1.8560690738407095, -0.12963982168188096, 0.2655327759747206  …  0.33174753912029387, 0.28920553068005694, -1.49944404854256, -0.748749556575726, 0.31249024950526194, -0.18835451885574409, 0.5973529026567889, 0.6480409842178808, 0.003166230880611455, -0.8887643858450935]\n",
       "    std. residuals:     [0.9928781108862352, 0.624108271654345, -0.6441545758830713, -0.25672325064705126, 1.4074986548017037, 0.5255269491736908, -1.3084248552651887, 2.648646328099097, -0.18544532026032928, 0.3787179183413633  …  0.47407574283620074, 0.411179454199195, -2.1295683403958057, -1.0611428762421968, 0.44381071949674916, -0.2668689829710803, 0.8463559174225697, 0.9176863179906539, 0.004473023169016124, -1.2582396954230533]\n"
      ]
     },
     "execution_count": 132,
     "metadata": {},
     "output_type": "execute_result"
    }
   ],
   "source": [
    "ChisqTest(hcat(hist_iid_1.weights, hist_iid_2.weights))"
   ]
  },
  {
   "cell_type": "code",
   "execution_count": null,
   "metadata": {},
   "outputs": [],
   "source": []
  },
  {
   "cell_type": "code",
   "execution_count": null,
   "metadata": {},
   "outputs": [],
   "source": []
  },
  {
   "cell_type": "code",
   "execution_count": null,
   "metadata": {},
   "outputs": [],
   "source": []
  },
  {
   "cell_type": "markdown",
   "metadata": {},
   "source": [
    "\n",
    "\n",
    "# Use Flux to do Logistic Regression on the Iris dataset\n",
    "\n",
    "This is a very simple model, with a single layer that outputs to softmax.\n",
    "\n",
    "Logistic regression can basically be thought of as a [single layer neural network](https://sebastianraschka.com/faq/docs/logisticregr-neuralnet.html).\n",
    "\n",
    "## Data Source\n",
    "\n",
    "The data source is Fisher's classic dataset, retrieved from the [UCI Machine Learning Repository](https://archive.ics.uci.edu/ml/datasets/iris).\n",
    "\n",
    "## Usage\n",
    "\n",
    "`cd` into `model-zoo/other/iris`, start the Julia REPL and instantiate the environment:\n",
    "\n",
    "```julia\n",
    "\n",
    "julia> using Pkg; Pkg.activate(\".\"); Pkg.instantiate()\n",
    "\n",
    "```\n",
    "\n",
    "Then train and evaluate the model:\n",
    "\n",
    "```julia\n",
    "\n",
    "julia> include(\"iris.jl\")\n",
    "Starting training.\n",
    "\n",
    "Accuracy: 0.94\n",
    "\n",
    "Confusion Matrix:\n",
    "\n",
    "3×3 Array{Int64,2}:\n",
    " 16   0   0\n",
    "  0  16   1\n",
    "  0   2  15\n",
    "\n",
    "julia>\n",
    "\n",
    "```\n"
   ]
  },
  {
   "cell_type": "code",
   "execution_count": null,
   "metadata": {},
   "outputs": [],
   "source": []
  }
 ],
 "metadata": {
  "kernelspec": {
   "display_name": "Julia 1.4.2",
   "language": "julia",
   "name": "julia-1.4"
  },
  "language_info": {
   "file_extension": ".jl",
   "mimetype": "application/julia",
   "name": "julia",
   "version": "1.4.2"
  }
 },
 "nbformat": 4,
 "nbformat_minor": 4
}
