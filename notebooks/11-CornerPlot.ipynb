{
 "cells": [
  {
   "cell_type": "code",
   "execution_count": 1,
   "metadata": {},
   "outputs": [],
   "source": [
    "using ValueShapes\n",
    "using ArraysOfArrays\n",
    "using StatsBase \n",
    "using LinearAlgebra\n",
    "using Statistics\n",
    "using Distributions \n",
    "using IntervalSets\n",
    "using JLD2\n",
    "using LaTeXStrings"
   ]
  },
  {
   "cell_type": "code",
   "execution_count": 2,
   "metadata": {},
   "outputs": [
    {
     "data": {
      "text/plain": [
       "PyPlot"
      ]
     },
     "execution_count": 2,
     "metadata": {},
     "output_type": "execute_result"
    }
   ],
   "source": [
    "import PyPlot\n",
    "plt = PyPlot"
   ]
  },
  {
   "cell_type": "code",
   "execution_count": 3,
   "metadata": {},
   "outputs": [],
   "source": [
    "JLD2.@load \"../data/mixture-9D-nc.jld\" means cov_m n_clusters\n",
    "\n",
    "mixture_model = MixtureModel(MvNormal[MvNormal(means[i,:], Matrix(Hermitian(cov_m[i,:,:])) ) for i in 1:n_clusters]);"
   ]
  },
  {
   "cell_type": "code",
   "execution_count": 4,
   "metadata": {},
   "outputs": [],
   "source": [
    "N = 10^5\n",
    "samples = rand(mixture_model, N)\n",
    "sample_weights = ones(N)\n",
    "log_lik = randn(N);"
   ]
  },
  {
   "cell_type": "code",
   "execution_count": 5,
   "metadata": {},
   "outputs": [],
   "source": [
    "SMALL_SIZE = 9\n",
    "MEDIUM_SIZE = 9\n",
    "BIGGER_SIZE = 10\n",
    "\n",
    "plt.rc(\"font\", size=SMALL_SIZE)          # controls default text sizes\n",
    "plt.rc(\"axes\", titlesize=SMALL_SIZE)     # fontsize of the axes title\n",
    "plt.rc(\"axes\", labelsize=MEDIUM_SIZE)    # fontsize of the x and y labels\n",
    "plt.rc(\"xtick\", labelsize=SMALL_SIZE)    # fontsize of the tick labels\n",
    "plt.rc(\"ytick\", labelsize=SMALL_SIZE)    # fontsize of the tick labels\n",
    "plt.rc(\"legend\", fontsize=SMALL_SIZE)    # legend fontsize\n",
    "plt.rc(\"figure\", titlesize=BIGGER_SIZE)  # fontsize of the figure title\n",
    "# plt.rc(\"text\", usetex=true)"
   ]
  },
  {
   "cell_type": "code",
   "execution_count": 15,
   "metadata": {},
   "outputs": [
    {
     "data": {
      "text/plain": [
       "corner_plots (generic function with 1 method)"
      ]
     },
     "execution_count": 15,
     "metadata": {},
     "output_type": "execute_result"
    }
   ],
   "source": [
    "function corner_plots(samples::AbstractArray, sample_weights::AbstractArray, loglik::AbstractArray, dim_indices::AbstractArray, dim_names::AbstractArray;\n",
    "        save_plot=false,\n",
    "        FILE_NAME = \"../plots/fig-g.pdf\",\n",
    "        N_bins = 50,\n",
    "        figsize = (7,7),\n",
    "        levels_quantiles = [0.4, 0.7, 0.8, 0.9, 0.99, 1,], \n",
    "        hist_color = plt.cm.Blues(0.7), \n",
    "        colors = vcat([1 1 1 1], plt.cm.Blues(range(0, stop=1, length=length(levels_quantiles)))[2:end,:])\n",
    "    )\n",
    "    \n",
    "    N = length(dim_indices)\n",
    "    bins=[] #Vector{StepRangeLen}()\n",
    "    fig, ax = plt.subplots(N,N, figsize=figsize)\n",
    "    fig.subplots_adjust(wspace=0.00, hspace=0.00)\n",
    "    \n",
    "    for idx in 1:N\n",
    "        dim_idx = dim_indices[idx]\n",
    "        bins_tmp = range(minimum(samples[dim_idx,:]), stop=maximum(samples[dim_idx,:]), length=N_bins)\n",
    "        push!(bins, bins_tmp)\n",
    "        ax[idx, idx].hist(samples[dim_idx,:], weights=sample_weights, bins=bins_tmp, color=hist_color, rasterized=true)\n",
    "        ax[idx, idx].set_xlim(first(bins_tmp),last(bins_tmp))\n",
    "    end\n",
    "    \n",
    "    for i in 2:N, j in 1:(i-1)\n",
    "        dim_x = dim_indices[j]\n",
    "        dim_y = dim_indices[i]\n",
    "        histogram_2D = fit(Histogram, (samples[dim_x,:],samples[dim_y,:]), weights(sample_weights), (bins[j], bins[i]))\n",
    "        histogram_2D = normalize(histogram_2D, mode=:probability)\n",
    "        \n",
    "        levels=quantile([histogram_2D.weights...], levels_quantiles)\n",
    "        \n",
    "        ax[i,j].contourf(midpoints(histogram_2D.edges[1]), midpoints(histogram_2D.edges[2]), histogram_2D.weights', levels=levels, colors=colors)\n",
    "        ax[i,j].set_xlim(first(bins[j]),last(bins[j]))\n",
    "        ax[i,j].set_ylim(first(bins[i]),last(bins[i]))\n",
    "        ax[j,i].set_visible(false)\n",
    "        \n",
    "    end\n",
    "    \n",
    "    for i in 1:N, j in 1:N\n",
    "        if i < N \n",
    "            ax[i,j].get_xaxis().set_visible(false)\n",
    "        else\n",
    "            ax[i,j].set_xticks([])\n",
    "            ax[i,j].set_xlabel(dim_names[j])\n",
    "        end\n",
    "        \n",
    "        if j == i || j>1\n",
    "           ax[i,j].get_yaxis().set_visible(false) \n",
    "        else\n",
    "            ax[i,j].set_yticks([])\n",
    "            ax[i,j].set_ylabel(dim_names[i])\n",
    "        end\n",
    "    end\n",
    "    \n",
    "    if save_plot \n",
    "        fig.savefig(FILE_NAME, bbox_inches = \"tight\")\n",
    "    end\n",
    "        \n",
    "end"
   ]
  },
  {
   "cell_type": "code",
   "execution_count": 18,
   "metadata": {},
   "outputs": [
    {
     "data": {
      "image/png": "[encoded data removed]",
      "text/plain": [
       "PyPlot.Figure(PyObject <Figure size 582x582.677 with 81 Axes>)"
      ]
     },
     "metadata": {},
     "output_type": "display_data"
    }
   ],
   "source": [
    "names = [\n",
    "    L\"\\lambda_1\", \n",
    "    L\"\\lambda_2\", \n",
    "    L\"\\lambda_3\", \n",
    "    L\"\\lambda_4\", \n",
    "    L\"\\lambda_5\",\n",
    "    L\"\\lambda_6\", \n",
    "    L\"\\lambda_7\", \n",
    "    L\"\\lambda_8\", \n",
    "    L\"\\lambda_9\"\n",
    "]\n",
    "\n",
    "dims = [1,2,3,4,5,6,7,8,9]\n",
    "\n",
    "figsize = (5.82, 5.826767123287671)\n",
    "\n",
    "corner_plots(samples, sample_weights, log_lik, dims, names, figsize=figsize,\n",
    "    N_bins=30, save_plot = false, \n",
    "    levels_quantiles = [0.4, 0.7, 0.8, 0.9, 0.98, 1,])"
   ]
  },
  {
   "cell_type": "code",
   "execution_count": null,
   "metadata": {},
   "outputs": [],
   "source": []
  },
  {
   "cell_type": "code",
   "execution_count": null,
   "metadata": {},
   "outputs": [],
   "source": []
  }
 ],
 "metadata": {
  "kernelspec": {
   "display_name": "Julia 1.4.2",
   "language": "julia",
   "name": "julia-1.4"
  },
  "language_info": {
   "file_extension": ".jl",
   "mimetype": "application/julia",
   "name": "julia",
   "version": "1.4.2"
  }
 },
 "nbformat": 4,
 "nbformat_minor": 4
}
