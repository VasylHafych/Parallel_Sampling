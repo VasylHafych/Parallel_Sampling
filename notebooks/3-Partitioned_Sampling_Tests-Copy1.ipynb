{
 "cells": [
  {
   "cell_type": "markdown",
   "metadata": {},
   "source": [
    "# Partitioned Sampling Tests: "
   ]
  },
  {
   "cell_type": "code",
   "execution_count": null,
   "metadata": {},
   "outputs": [],
   "source": [
    "# using Distributed \n",
    "# addprocs(3)"
   ]
  },
  {
   "cell_type": "code",
   "execution_count": 1,
   "metadata": {},
   "outputs": [],
   "source": [
    "using IntervalSets\n",
    "using Distributions\n",
    "using Random, LinearAlgebra, Statistics, Distributions, StatsBase, ArraysOfArrays\n",
    "using JLD2\n",
    "using ValueShapes\n",
    "using TypedTables\n",
    "using Measurements\n",
    "using TypedTables\n",
    "using HypothesisTests"
   ]
  },
  {
   "cell_type": "code",
   "execution_count": 2,
   "metadata": {},
   "outputs": [
    {
     "data": {
      "text/plain": [
       "Plots.PyPlotBackend()"
      ]
     },
     "execution_count": 2,
     "metadata": {},
     "output_type": "execute_result"
    }
   ],
   "source": [
    "# using PyPlot\n",
    "using Plots\n",
    "pyplot()"
   ]
  },
  {
   "cell_type": "code",
   "execution_count": 3,
   "metadata": {},
   "outputs": [],
   "source": [
    "using Revise\n",
    "using BAT"
   ]
  },
  {
   "cell_type": "markdown",
   "metadata": {},
   "source": [
    "## 1. BAT model definition: Gaussian mixture"
   ]
  },
  {
   "cell_type": "markdown",
   "metadata": {},
   "source": [
    "Let us use a mixture of 4 normal distribution with random  covariance matrices as a model: "
   ]
  },
  {
   "cell_type": "code",
   "execution_count": 4,
   "metadata": {},
   "outputs": [
    {
     "data": {
      "text/plain": [
       "47.684856298932324"
      ]
     },
     "execution_count": 4,
     "metadata": {},
     "output_type": "execute_result"
    }
   ],
   "source": [
    "JLD2.@load \"../data/mixture-9D-nc.jld\" means cov_m n_clusters\n",
    "\n",
    "mixture_model = MixtureModel(MvNormal[MvNormal(means[i,:], Matrix(Hermitian(cov_m[i,:,:])) ) for i in 1:n_clusters]);\n",
    "\n",
    "likelihood = let model = mixture_model\n",
    "    params -> begin\n",
    "         return LogDVal(logpdf(model, params.a))\n",
    "    end\n",
    "end\n",
    "\n",
    "prior = NamedTupleDist(a = [Uniform(-100,100) for i in 1:size(means)[2]])\n",
    "posterior = PosteriorDensity(likelihood, prior);\n",
    "log_volume = BAT.log_volume(BAT.spatialvolume(posterior.parbounds))"
   ]
  },
  {
   "cell_type": "code",
   "execution_count": null,
   "metadata": {},
   "outputs": [],
   "source": [
    "# # Caushy Distribution: \n",
    "\n",
    "# true_param =(μ1=1, μ2=-1, σ=0.2)\n",
    "\n",
    "# function fun(x; true_param=true_param)\n",
    "#     tmp = 1\n",
    "#     for i in eachindex(x)\n",
    "#         if i > 2\n",
    "#             tmp *= pdf(Cauchy(true_param.μ1 + true_param.μ2, true_param.σ), x[i])\n",
    "#         else \n",
    "#             tmp *= 0.5*pdf(Cauchy(true_param.μ1, true_param.σ), x[i]) + 0.5*pdf(Cauchy(true_param.μ2, true_param.σ), x[i])\n",
    "#         end\n",
    "#     end\n",
    "#     return tmp\n",
    "# end\n",
    "\n",
    "# #Gausian Shell: \n",
    "\n",
    "# function fun(x)\n",
    "# \tz_o = zeros(length(x))\n",
    "# \ttrue_param = (λ=z_o, r=10, σ=5)\n",
    "#     abs_dist = sqrt(sum((z_o .- x).^2))\n",
    "#     ll =  exp(-(abs_dist - true_param.r)^2/(2*true_param.σ^2)) / sqrt(2 * pi * true_param.σ^2) \n",
    "#     return ll\n",
    "# end\n",
    "\n",
    "\n",
    "# # prior = NamedTupleDist(a = [Uniform(-50,50) for i in 1:12]);\n",
    "# # prior = NamedTupleDist(a = [Normal(0, 10) for i in 1:15])\n",
    "\n",
    "# posterior = PosteriorDensity(likelihood, prior);\n",
    "# log_volume = BAT.log_volume(BAT.spatialvolume(posterior.parbounds))"
   ]
  },
  {
   "cell_type": "markdown",
   "metadata": {},
   "source": [
    "## 2. Sampling: "
   ]
  },
  {
   "cell_type": "code",
   "execution_count": 5,
   "metadata": {},
   "outputs": [],
   "source": [
    "sampler = MetropolisHastings() # AHMC()\n",
    "\n",
    "burnin_1 = MCMCBurninStrategy(\n",
    "        max_nsamples_per_cycle = 10000,\n",
    "        max_nsteps_per_cycle = 10000,\n",
    "        max_time_per_cycle = 25,\n",
    "        max_ncycles = 40\n",
    "    )\n",
    "\n",
    "tuning = AdaptiveMetropolisTuning(\n",
    "    λ = 0.5,\n",
    "    α = 0.05..0.15,\n",
    "    β = 1.5,\n",
    "    c = 1e-4..1e2,\n",
    "    r = 0.5\n",
    ")\n",
    "\n",
    "sampling_kwargs = (burnin = burnin_1, tuning=tuning);"
   ]
  },
  {
   "cell_type": "markdown",
   "metadata": {},
   "source": [
    "The same with exploration sampler"
   ]
  },
  {
   "cell_type": "code",
   "execution_count": 6,
   "metadata": {},
   "outputs": [],
   "source": [
    "# MetropolisHastings: \n",
    "exploration_sampler = MetropolisHastings()\n",
    "\n",
    "burnin_2 = MCMCBurninStrategy(\n",
    "        max_nsamples_per_cycle = 6000,\n",
    "        max_nsteps_per_cycle = 6000,\n",
    "        max_time_per_cycle = 25,\n",
    "        max_ncycles = 20\n",
    "    )\n",
    "\n",
    "exploration_kwargs = (burnin = burnin_2,)\n",
    "n_exploration = (10^2, 40);"
   ]
  },
  {
   "cell_type": "markdown",
   "metadata": {},
   "source": [
    "Space partitioning can be done using `BAT.KDTreePartitioning` algorithm"
   ]
  },
  {
   "cell_type": "code",
   "execution_count": 7,
   "metadata": {},
   "outputs": [],
   "source": [
    "partitioner = KDTreePartitioning(\n",
    "        partition_dims = :auto, # dimension indices that are considered for partition\n",
    "        extend_bounds=true # \"false\" is appropriate for debugging, very fast tuning /convergence \n",
    "    );"
   ]
  },
  {
   "cell_type": "markdown",
   "metadata": {},
   "source": [
    "To integrate subspaces, any `BAT.IntegrationAlgorithm` can be used: "
   ]
  },
  {
   "cell_type": "code",
   "execution_count": 8,
   "metadata": {},
   "outputs": [],
   "source": [
    "integrator = AHMIntegration(  \n",
    "        whitening= CholeskyPartialWhitening(), #CholeskyPartialWhitening(),\n",
    "        autocorlen= GeyerAutocorLen(),\n",
    "        volumetype = :HyperRectangle,\n",
    "        max_startingIDs = 10000,\n",
    "        max_startingIDs_fraction = 2.5,\n",
    "        rect_increase = 0.1,\n",
    "        warning_minstartingids = 16,\n",
    "        dotrimming = true,\n",
    "        uncertainty= [:cov]\n",
    "    );"
   ]
  },
  {
   "cell_type": "code",
   "execution_count": 9,
   "metadata": {},
   "outputs": [],
   "source": [
    "algorithm = PartitionedSampling(\n",
    "        sampler = sampler,\n",
    "        exploration_sampler = exploration_sampler,\n",
    "        partitioner = partitioner,\n",
    "        integrator = integrator,\n",
    "        exploration_kwargs = exploration_kwargs,\n",
    "        sampling_kwargs = sampling_kwargs,\n",
    "        n_exploration = n_exploration\n",
    "    );"
   ]
  },
  {
   "cell_type": "code",
   "execution_count": 10,
   "metadata": {},
   "outputs": [
    {
     "name": "stderr",
     "output_type": "stream",
     "text": [
      "┌ Info: Generating Exploration Samples\n",
      "└ @ BAT /Users/vhafych/MPP-Server/gitrepos/BAT.jl/src/samplers/partitioned_sampling/partition_sample.jl:71\n",
      "┌ Info: Initializing new RNG of type Random123.Philox4x{UInt64,10}\n",
      "└ @ BAT /Users/vhafych/MPP-Server/gitrepos/BAT.jl/src/algotypes/bat_default.jl:44\n",
      "┌ Info: Trying to generate 40 viable MCMC chain(s).\n",
      "└ @ BAT /Users/vhafych/MPP-Server/gitrepos/BAT.jl/src/samplers/mcmc/mcmc_tuner.jl:193\n",
      "┌ Info: Selected 40 MCMC chain(s).\n",
      "└ @ BAT /Users/vhafych/MPP-Server/gitrepos/BAT.jl/src/samplers/mcmc/mcmc_tuner.jl:304\n",
      "┌ Info: Begin tuning of 40 MCMC chain(s).\n",
      "└ @ BAT /Users/vhafych/MPP-Server/gitrepos/BAT.jl/src/samplers/mcmc/mcmc_tuner.jl:65\n",
      "┌ Info: MCMC Tuning cycle 1 finished, 40 chains, 0 tuned, 0 converged.\n",
      "└ @ BAT /Users/vhafych/MPP-Server/gitrepos/BAT.jl/src/samplers/mcmc/mcmc_tuner.jl:98\n",
      "┌ Info: MCMC Tuning cycle 2 finished, 40 chains, 6 tuned, 0 converged.\n",
      "└ @ BAT /Users/vhafych/MPP-Server/gitrepos/BAT.jl/src/samplers/mcmc/mcmc_tuner.jl:98\n",
      "┌ Info: MCMC Tuning cycle 3 finished, 40 chains, 23 tuned, 0 converged.\n",
      "└ @ BAT /Users/vhafych/MPP-Server/gitrepos/BAT.jl/src/samplers/mcmc/mcmc_tuner.jl:98\n",
      "┌ Info: MCMC Tuning cycle 4 finished, 40 chains, 33 tuned, 0 converged.\n",
      "└ @ BAT /Users/vhafych/MPP-Server/gitrepos/BAT.jl/src/samplers/mcmc/mcmc_tuner.jl:98\n",
      "┌ Info: MCMC Tuning cycle 5 finished, 40 chains, 35 tuned, 0 converged.\n",
      "└ @ BAT /Users/vhafych/MPP-Server/gitrepos/BAT.jl/src/samplers/mcmc/mcmc_tuner.jl:98\n",
      "┌ Info: MCMC Tuning cycle 6 finished, 40 chains, 34 tuned, 0 converged.\n",
      "└ @ BAT /Users/vhafych/MPP-Server/gitrepos/BAT.jl/src/samplers/mcmc/mcmc_tuner.jl:98\n",
      "┌ Info: MCMC Tuning cycle 7 finished, 40 chains, 32 tuned, 0 converged.\n",
      "└ @ BAT /Users/vhafych/MPP-Server/gitrepos/BAT.jl/src/samplers/mcmc/mcmc_tuner.jl:98\n",
      "┌ Info: MCMC Tuning cycle 8 finished, 40 chains, 34 tuned, 0 converged.\n",
      "└ @ BAT /Users/vhafych/MPP-Server/gitrepos/BAT.jl/src/samplers/mcmc/mcmc_tuner.jl:98\n",
      "┌ Info: MCMC Tuning cycle 9 finished, 40 chains, 35 tuned, 0 converged.\n",
      "└ @ BAT /Users/vhafych/MPP-Server/gitrepos/BAT.jl/src/samplers/mcmc/mcmc_tuner.jl:98\n",
      "┌ Info: MCMC Tuning cycle 10 finished, 40 chains, 37 tuned, 0 converged.\n",
      "└ @ BAT /Users/vhafych/MPP-Server/gitrepos/BAT.jl/src/samplers/mcmc/mcmc_tuner.jl:98\n",
      "┌ Info: MCMC Tuning cycle 11 finished, 40 chains, 36 tuned, 0 converged.\n",
      "└ @ BAT /Users/vhafych/MPP-Server/gitrepos/BAT.jl/src/samplers/mcmc/mcmc_tuner.jl:98\n",
      "┌ Info: MCMC Tuning cycle 12 finished, 40 chains, 38 tuned, 0 converged.\n",
      "└ @ BAT /Users/vhafych/MPP-Server/gitrepos/BAT.jl/src/samplers/mcmc/mcmc_tuner.jl:98\n",
      "┌ Info: MCMC Tuning cycle 13 finished, 40 chains, 37 tuned, 0 converged.\n",
      "└ @ BAT /Users/vhafych/MPP-Server/gitrepos/BAT.jl/src/samplers/mcmc/mcmc_tuner.jl:98\n",
      "┌ Info: MCMC Tuning cycle 14 finished, 40 chains, 39 tuned, 0 converged.\n",
      "└ @ BAT /Users/vhafych/MPP-Server/gitrepos/BAT.jl/src/samplers/mcmc/mcmc_tuner.jl:98\n",
      "┌ Info: MCMC Tuning cycle 15 finished, 40 chains, 40 tuned, 0 converged.\n",
      "└ @ BAT /Users/vhafych/MPP-Server/gitrepos/BAT.jl/src/samplers/mcmc/mcmc_tuner.jl:98\n",
      "┌ Info: MCMC Tuning cycle 16 finished, 40 chains, 37 tuned, 0 converged.\n",
      "└ @ BAT /Users/vhafych/MPP-Server/gitrepos/BAT.jl/src/samplers/mcmc/mcmc_tuner.jl:98\n",
      "┌ Info: MCMC Tuning cycle 17 finished, 40 chains, 40 tuned, 0 converged.\n",
      "└ @ BAT /Users/vhafych/MPP-Server/gitrepos/BAT.jl/src/samplers/mcmc/mcmc_tuner.jl:98\n",
      "┌ Info: MCMC Tuning cycle 18 finished, 40 chains, 39 tuned, 0 converged.\n",
      "└ @ BAT /Users/vhafych/MPP-Server/gitrepos/BAT.jl/src/samplers/mcmc/mcmc_tuner.jl:98\n",
      "┌ Info: MCMC Tuning cycle 19 finished, 40 chains, 38 tuned, 0 converged.\n",
      "└ @ BAT /Users/vhafych/MPP-Server/gitrepos/BAT.jl/src/samplers/mcmc/mcmc_tuner.jl:98\n",
      "┌ Info: MCMC Tuning cycle 20 finished, 40 chains, 40 tuned, 0 converged.\n",
      "└ @ BAT /Users/vhafych/MPP-Server/gitrepos/BAT.jl/src/samplers/mcmc/mcmc_tuner.jl:98\n",
      "┌ Warning: MCMC tuning of 40 chains aborted after 20 cycle(s).\n",
      "└ @ BAT /Users/vhafych/MPP-Server/gitrepos/BAT.jl/src/samplers/mcmc/mcmc_tuner.jl:108\n",
      "┌ Info: Constructing Partition Tree\n",
      "└ @ BAT /Users/vhafych/MPP-Server/gitrepos/BAT.jl/src/samplers/partitioned_sampling/partition_sample.jl:74\n",
      "┌ Info: Sampling Subspaces\n",
      "└ @ BAT /Users/vhafych/MPP-Server/gitrepos/BAT.jl/src/samplers/partitioned_sampling/partition_sample.jl:79\n",
      "┌ Info: Sampling subspace #1\n",
      "└ @ BAT /Users/vhafych/MPP-Server/gitrepos/BAT.jl/src/samplers/partitioned_sampling/partition_sample.jl:116\n",
      "┌ Info: Initializing new RNG of type Random123.Philox4x{UInt64,10}\n",
      "└ @ BAT /Users/vhafych/MPP-Server/gitrepos/BAT.jl/src/algotypes/bat_default.jl:44\n",
      "┌ Info: Trying to generate 8 viable MCMC chain(s).\n",
      "└ @ BAT /Users/vhafych/MPP-Server/gitrepos/BAT.jl/src/samplers/mcmc/mcmc_tuner.jl:193\n",
      "┌ Info: Selected 8 MCMC chain(s).\n",
      "└ @ BAT /Users/vhafych/MPP-Server/gitrepos/BAT.jl/src/samplers/mcmc/mcmc_tuner.jl:304\n",
      "┌ Info: Begin tuning of 8 MCMC chain(s).\n",
      "└ @ BAT /Users/vhafych/MPP-Server/gitrepos/BAT.jl/src/samplers/mcmc/mcmc_tuner.jl:65\n",
      "┌ Info: MCMC Tuning cycle 1 finished, 8 chains, 0 tuned, 0 converged.\n",
      "└ @ BAT /Users/vhafych/MPP-Server/gitrepos/BAT.jl/src/samplers/mcmc/mcmc_tuner.jl:98\n",
      "┌ Info: MCMC Tuning cycle 2 finished, 8 chains, 6 tuned, 0 converged.\n",
      "└ @ BAT /Users/vhafych/MPP-Server/gitrepos/BAT.jl/src/samplers/mcmc/mcmc_tuner.jl:98\n",
      "┌ Info: MCMC Tuning cycle 3 finished, 8 chains, 8 tuned, 0 converged.\n",
      "└ @ BAT /Users/vhafych/MPP-Server/gitrepos/BAT.jl/src/samplers/mcmc/mcmc_tuner.jl:98\n",
      "┌ Info: MCMC Tuning cycle 4 finished, 8 chains, 7 tuned, 0 converged.\n",
      "└ @ BAT /Users/vhafych/MPP-Server/gitrepos/BAT.jl/src/samplers/mcmc/mcmc_tuner.jl:98\n",
      "┌ Info: MCMC Tuning cycle 5 finished, 8 chains, 8 tuned, 0 converged.\n",
      "└ @ BAT /Users/vhafych/MPP-Server/gitrepos/BAT.jl/src/samplers/mcmc/mcmc_tuner.jl:98\n",
      "┌ Info: MCMC Tuning cycle 6 finished, 8 chains, 8 tuned, 0 converged.\n",
      "└ @ BAT /Users/vhafych/MPP-Server/gitrepos/BAT.jl/src/samplers/mcmc/mcmc_tuner.jl:98\n",
      "┌ Info: MCMC Tuning cycle 7 finished, 8 chains, 7 tuned, 0 converged.\n",
      "└ @ BAT /Users/vhafych/MPP-Server/gitrepos/BAT.jl/src/samplers/mcmc/mcmc_tuner.jl:98\n",
      "┌ Info: MCMC Tuning cycle 8 finished, 8 chains, 8 tuned, 8 converged.\n",
      "└ @ BAT /Users/vhafych/MPP-Server/gitrepos/BAT.jl/src/samplers/mcmc/mcmc_tuner.jl:98\n",
      "┌ Info: MCMC tuning of 8 chains successful after 8 cycle(s).\n",
      "└ @ BAT /Users/vhafych/MPP-Server/gitrepos/BAT.jl/src/samplers/mcmc/mcmc_tuner.jl:102\n",
      "┌ Info: Harmonic Mean Integration started. Samples in dataset 1 / 2: \t3809 / 3808\tParameters:\t9\n",
      "└ @ BAT /Users/vhafych/MPP-Server/gitrepos/BAT.jl/src/integration/ahmi/harmonic_mean_integration.jl:93\n",
      "┌ Info: Data Whitening.\n",
      "└ @ BAT /Users/vhafych/MPP-Server/gitrepos/BAT.jl/src/integration/ahmi/harmonic_mean_integration.jl:108\n",
      "┌ Info: Apply Whitening Transformation to Data Set 2\n",
      "└ @ BAT /Users/vhafych/MPP-Server/gitrepos/BAT.jl/src/integration/ahmi/harmonic_mean_integration.jl:117\n",
      "┌ Info: Create Space Partitioning Tree\n",
      "└ @ BAT /Users/vhafych/MPP-Server/gitrepos/BAT.jl/src/integration/ahmi/harmonic_mean_integration.jl:129\n",
      "\u001b[32mProgress: 100%|█████████████████████████████████████████| Time: 0:00:00\u001b[39m\n",
      "┌ Info: Determine Hyperrectangle Starting Samples\n",
      "└ @ BAT /Users/vhafych/MPP-Server/gitrepos/BAT.jl/src/integration/ahmi/harmonic_mean_integration.jl:145\n",
      "┌ Info: Determine Tolerances for Hyperrectangle Creation\n",
      "└ @ BAT /Users/vhafych/MPP-Server/gitrepos/BAT.jl/src/integration/ahmi/harmonic_mean_integration.jl:165\n",
      "┌ Info: Create 66 Hyperrectangles using 8 thread(s)\n",
      "└ @ BAT /Users/vhafych/MPP-Server/gitrepos/BAT.jl/src/integration/ahmi/hm_integration_rectangle.jl:9\n",
      "\u001b[32mProgress: 100%|█████████████████████████████████████████| Time: 0:00:00\u001b[39m\n",
      "┌ Info: Updating 31 Hyperrectangles using 8 thread(s)\n",
      "└ @ BAT /Users/vhafych/MPP-Server/gitrepos/BAT.jl/src/integration/ahmi/hm_integration_rectangle.jl:27\n",
      "┌ Info: Integrating 26 Hyperrectangles\n",
      "└ @ BAT /Users/vhafych/MPP-Server/gitrepos/BAT.jl/src/integration/ahmi/harmonic_mean_integration.jl:384\n",
      "┌ Warning: The batch contains zero samples. It's integral will be replaced with the average batch integral.\n",
      "└ @ BAT /Users/vhafych/MPP-Server/gitrepos/BAT.jl/src/integration/ahmi/harmonic_mean_integration.jl:470\n",
      "┌ Warning: The batch contains zero samples. It's integral will be replaced with the average batch integral.\n",
      "└ @ BAT /Users/vhafych/MPP-Server/gitrepos/BAT.jl/src/integration/ahmi/harmonic_mean_integration.jl:470\n",
      "┌ Warning: The batch contains zero samples. It's integral will be replaced with the average batch integral.\n",
      "└ @ BAT /Users/vhafych/MPP-Server/gitrepos/BAT.jl/src/integration/ahmi/harmonic_mean_integration.jl:470\n",
      "┌ Warning: The batch contains zero samples. It's integral will be replaced with the average batch integral.\n",
      "└ @ BAT /Users/vhafych/MPP-Server/gitrepos/BAT.jl/src/integration/ahmi/harmonic_mean_integration.jl:470\n",
      "┌ Info: Estimating Uncertainty (cov_weighted)\n",
      "└ @ BAT /Users/vhafych/MPP-Server/gitrepos/BAT.jl/src/integration/ahmi/harmonic_mean_integration.jl:59\n",
      "┌ Info: Combining Samples\n",
      "└ @ BAT /Users/vhafych/MPP-Server/gitrepos/BAT.jl/src/samplers/partitioned_sampling/partition_sample.jl:88\n"
     ]
    }
   ],
   "source": [
    "n_chains = 8 # chains per subspace \n",
    "n_samples = 10^3 # samples per subspace \n",
    "n_subspaces = 1\n",
    "\n",
    "output_sp_ms = bat_sample(posterior, (n_samples, n_chains, n_subspaces), algorithm);\n",
    "\n",
    "samples_3 = output_sp_ms.result;"
   ]
  },
  {
   "cell_type": "code",
   "execution_count": 18,
   "metadata": {},
   "outputs": [],
   "source": [
    "# using HDF5\n",
    "# bat_write(\"test.hdf5\", unshaped.(samples_3))\n",
    "# outp = bat_read(\"test.hdf5\")\n",
    "# samples_3_tmp = varshape(samples_3).(outp);"
   ]
  },
  {
   "cell_type": "code",
   "execution_count": null,
   "metadata": {},
   "outputs": [],
   "source": [
    "# using CSV\n",
    "# CSV.write(\"table_tmp.csv\", output_sp_ms.info)\n",
    "# csvfile = CSV.File(\"table_tmp.csv\")\n",
    "# tt = Table(csvfile)\n",
    "\n",
    "# Measurements.measurement(parse.(Float64, split(tt.density_integral[1], \" ± \"))...)\n",
    "# UnitRange(parse.(Int64, split(tt.integration_wc[1], \":\"))...)"
   ]
  },
  {
   "cell_type": "code",
   "execution_count": null,
   "metadata": {},
   "outputs": [],
   "source": [
    "posterior_integral = -log(sum(output_sp_ms.info.density_integral))"
   ]
  },
  {
   "cell_type": "code",
   "execution_count": null,
   "metadata": {},
   "outputs": [],
   "source": [
    "flat_bounds = BAT.get_tree_par_bounds(output_sp_ms.part_tree);"
   ]
  },
  {
   "cell_type": "code",
   "execution_count": null,
   "metadata": {},
   "outputs": [],
   "source": [
    "@show log(sum([prod(rec_bound[:,2] .- rec_bound[:,1]) for rec_bound in flat_bounds]))\n",
    "@show log_volume;"
   ]
  },
  {
   "cell_type": "code",
   "execution_count": null,
   "metadata": {},
   "outputs": [],
   "source": [
    "plot(samples_3, vsel=[1,2,3,4,5], size=(1100,700), globalmode=true, localmode=true, \n",
    "    upper=Dict(\"partition_tree\"=>output_sp_ms.part_tree, \n",
    "        \"mean\"=>false, \"globalmode\"=>false, \"localmode\"=>false,),\n",
    ")"
   ]
  },
  {
   "cell_type": "code",
   "execution_count": null,
   "metadata": {},
   "outputs": [],
   "source": [
    "plot(samples_3, vsel=[6,7,8,9,10], size=(1100,700), globalmode=true, localmode=true, \n",
    "    upper=Dict(\"partition_tree\"=>output_sp_ms.part_tree, \"mean\"=>false, \"globalmode\"=>false, \"localmode\"=>false,))"
   ]
  },
  {
   "cell_type": "markdown",
   "metadata": {},
   "source": [
    "## Test Single Subspaces: "
   ]
  },
  {
   "cell_type": "code",
   "execution_count": null,
   "metadata": {},
   "outputs": [],
   "source": [
    "subs_ind = 3\n",
    "smpl_ind = output_sp_ms.info.samples_ind[subs_ind]\n",
    "smpl_tot_weight = output_sp_ms.info.sum_weights[subs_ind]\n",
    "smpl_trunc = samples_3[smpl_ind]\n",
    "smpl_int = output_sp_ms.info.density_integral[subs_ind].val\n",
    "\n",
    "samples_tmp = DensitySampleVector((smpl_trunc.v,\n",
    "            smpl_trunc.logd,\n",
    "            round.(Integer, smpl_tot_weight .* smpl_trunc.weight ./ smpl_int),\n",
    "            smpl_trunc.info,\n",
    "            smpl_trunc.aux));\n",
    "\n",
    "\n",
    "integral_val, hmi_data = bat_integrate(samples_tmp, integrator)\n",
    "\n",
    "@show smpl_int, integral_val"
   ]
  },
  {
   "cell_type": "code",
   "execution_count": null,
   "metadata": {},
   "outputs": [],
   "source": [
    "typeof(smpl_trunc.v[1])"
   ]
  },
  {
   "cell_type": "code",
   "execution_count": null,
   "metadata": {},
   "outputs": [],
   "source": [
    "exp(log(integral_val) + log_volume)"
   ]
  },
  {
   "cell_type": "code",
   "execution_count": null,
   "metadata": {},
   "outputs": [],
   "source": [
    "plot(samples_tmp, upper=Dict(\"partition_tree\"=>output_sp_ms.part_tree, \n",
    "        \"mean\"=>false, \"globalmode\"=>false, \"localmode\"=>false))"
   ]
  },
  {
   "cell_type": "code",
   "execution_count": null,
   "metadata": {},
   "outputs": [],
   "source": [
    "# plot(hmi_data, dim1 = 1, dim2 = 2, size=(900,450), plot_seedcubes=false, plot_rejectedrects = false, plot_acceptedrects = true, legend=false)"
   ]
  },
  {
   "cell_type": "markdown",
   "metadata": {},
   "source": [
    "## Resample Subspace: "
   ]
  },
  {
   "cell_type": "code",
   "execution_count": null,
   "metadata": {},
   "outputs": [],
   "source": [
    "smpl_int = output_sp_ms.info.density_integral[subs_ind]\n",
    "\n",
    "flat_bounds = BAT.get_tree_par_bounds(output_sp_ms.part_tree)[subs_ind]\n",
    "\n",
    "iid_samples = bat_sample(NamedTupleDist(a=mixture_model), 10^6).result;"
   ]
  },
  {
   "cell_type": "code",
   "execution_count": null,
   "metadata": {},
   "outputs": [],
   "source": [
    "mask_iid = [prod(flat_bounds[:,1] .< s.v[1][1] .<  flat_bounds[:,2]) for s in iid_samples]\n",
    "\n",
    "@show sum(mask_iid)"
   ]
  },
  {
   "cell_type": "code",
   "execution_count": null,
   "metadata": {},
   "outputs": [],
   "source": [
    "integral_val_iid, hmi_data_iid = bat_integrate(iid_samples[mask_iid], integrator);"
   ]
  },
  {
   "cell_type": "code",
   "execution_count": null,
   "metadata": {},
   "outputs": [],
   "source": [
    "integral_val_iid"
   ]
  },
  {
   "cell_type": "code",
   "execution_count": null,
   "metadata": {},
   "outputs": [],
   "source": [
    "exp(log(smpl_int) + log_volume)"
   ]
  },
  {
   "cell_type": "code",
   "execution_count": null,
   "metadata": {},
   "outputs": [],
   "source": [
    "plot(iid_samples[mask_iid], upper=Dict(\"partition_tree\"=>output_sp_ms.part_tree, \n",
    "        \"mean\"=>false, \"globalmode\"=>false, \"localmode\"=>false))"
   ]
  },
  {
   "cell_type": "code",
   "execution_count": null,
   "metadata": {},
   "outputs": [],
   "source": []
  },
  {
   "cell_type": "code",
   "execution_count": null,
   "metadata": {},
   "outputs": [],
   "source": []
  },
  {
   "cell_type": "markdown",
   "metadata": {},
   "source": [
    "## MCMC samples: "
   ]
  },
  {
   "cell_type": "code",
   "execution_count": null,
   "metadata": {},
   "outputs": [],
   "source": [
    "output_mcmc = bat_sample(posterior, (10^5, 5), MetropolisHastings()).result;"
   ]
  },
  {
   "cell_type": "code",
   "execution_count": null,
   "metadata": {},
   "outputs": [],
   "source": [
    "plot(output_mcmc, vsel=[1,2,3,4,5], size=(700,700), globalmode=true, localmode=true, \n",
    "    upper=Dict(\"mean\"=>false, \"globalmode\"=>false, \"localmode\"=>false))"
   ]
  },
  {
   "cell_type": "code",
   "execution_count": null,
   "metadata": {},
   "outputs": [],
   "source": [
    "log(bat_integrate(output_mcmc).result)"
   ]
  },
  {
   "cell_type": "code",
   "execution_count": null,
   "metadata": {},
   "outputs": [],
   "source": []
  },
  {
   "cell_type": "markdown",
   "metadata": {},
   "source": [
    "# IID Samples: "
   ]
  },
  {
   "cell_type": "code",
   "execution_count": null,
   "metadata": {},
   "outputs": [],
   "source": [
    "iid_samples =  bat_sample(NamedTupleDist(a=mixture_model), 10^6).result;"
   ]
  },
  {
   "cell_type": "code",
   "execution_count": null,
   "metadata": {},
   "outputs": [],
   "source": [
    "plot(iid_samples)"
   ]
  },
  {
   "cell_type": "code",
   "execution_count": null,
   "metadata": {},
   "outputs": [],
   "source": []
  }
 ],
 "metadata": {
  "kernelspec": {
   "display_name": "Julia 1.4.2",
   "language": "julia",
   "name": "julia-1.4"
  },
  "language_info": {
   "file_extension": ".jl",
   "mimetype": "application/julia",
   "name": "julia",
   "version": "1.4.2"
  }
 },
 "nbformat": 4,
 "nbformat_minor": 4
}
