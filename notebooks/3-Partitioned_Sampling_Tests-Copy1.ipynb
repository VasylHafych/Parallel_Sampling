{
 "cells": [
  {
   "cell_type": "markdown",
   "metadata": {},
   "source": [
    "# Partitioned Sampling Tests: "
   ]
  },
  {
   "cell_type": "code",
   "execution_count": null,
   "metadata": {},
   "outputs": [],
   "source": [
    "# using Distributed \n",
    "# addprocs(3)"
   ]
  },
  {
   "cell_type": "code",
   "execution_count": null,
   "metadata": {},
   "outputs": [],
   "source": [
    "using IntervalSets\n",
    "using Distributions\n",
    "using Random, LinearAlgebra, Statistics, Distributions, StatsBase, ArraysOfArrays\n",
    "using JLD2\n",
    "using ValueShapes\n",
    "using TypedTables\n",
    "using Measurements\n",
    "using TypedTables\n",
    "using HypothesisTests"
   ]
  },
  {
   "cell_type": "code",
   "execution_count": null,
   "metadata": {},
   "outputs": [],
   "source": [
    "# using PyPlot\n",
    "using Plots\n",
    "pyplot()"
   ]
  },
  {
   "cell_type": "code",
   "execution_count": null,
   "metadata": {},
   "outputs": [],
   "source": [
    "using Revise\n",
    "using BAT"
   ]
  },
  {
   "cell_type": "markdown",
   "metadata": {},
   "source": [
    "## 1. BAT model definition: Gaussian mixture"
   ]
  },
  {
   "cell_type": "markdown",
   "metadata": {},
   "source": [
    "Let us use a mixture of 4 normal distribution with random  covariance matrices as a model: "
   ]
  },
  {
   "cell_type": "code",
   "execution_count": null,
   "metadata": {},
   "outputs": [],
   "source": [
    "JLD2.@load \"../data/mixture-5D.jld\" means cov_m n_clusters\n",
    "\n",
    "mixture_model = MixtureModel(MvNormal[MvNormal(means[i,:], Matrix(Hermitian(cov_m[i,:,:])) ) for i in 1:1]);"
   ]
  },
  {
   "cell_type": "code",
   "execution_count": null,
   "metadata": {},
   "outputs": [],
   "source": [
    "prior = NamedTupleDist(a = [Normal(0, 20) for i in 1:size(means)[2]])\n",
    "\n",
    "# prior = NamedTupleDist(a = [Normal(0, 20) for i in 1:size(means)[2]])\n",
    "\n",
    "likelihood = let model = mixture_model\n",
    "    params -> begin\n",
    "        return LogDVal(logpdf(model, params.a))\n",
    "#         return LogDVal(sum([logpdf(Normal(), params.a[i]) for i in 1:length(params.a)]))\n",
    "#         return LogDVal(0.0)\n",
    "    end\n",
    "end\n",
    "\n",
    "posterior = PosteriorDensity(likelihood, prior);\n",
    "log_volume = BAT.log_volume(BAT.spatialvolume(posterior.parbounds))"
   ]
  },
  {
   "cell_type": "markdown",
   "metadata": {},
   "source": [
    "## 2. Sampling: "
   ]
  },
  {
   "cell_type": "code",
   "execution_count": null,
   "metadata": {},
   "outputs": [],
   "source": [
    "sampler = MetropolisHastings() # AHMC()\n",
    "\n",
    "burnin_1 = MCMCBurninStrategy(\n",
    "        max_nsamples_per_cycle = 5000,\n",
    "        max_nsteps_per_cycle = 5000,\n",
    "        max_time_per_cycle = 25,\n",
    "        max_ncycles = 30\n",
    "    )\n",
    "\n",
    "tuning = AdaptiveMetropolisTuning(\n",
    "    λ = 0.5,\n",
    "    α = 0.05..0.15,\n",
    "    β = 1.5,\n",
    "    c = 1e-4..1e2,\n",
    "    r = 0.5\n",
    ")\n",
    "\n",
    "sampling_kwargs = (burnin = burnin_1, tuning=tuning);"
   ]
  },
  {
   "cell_type": "markdown",
   "metadata": {},
   "source": [
    "The same with exploration sampler"
   ]
  },
  {
   "cell_type": "code",
   "execution_count": null,
   "metadata": {},
   "outputs": [],
   "source": [
    "# MetropolisHastings: \n",
    "exploration_sampler = MetropolisHastings()\n",
    "\n",
    "burnin_2 = MCMCBurninStrategy(\n",
    "        max_nsamples_per_cycle = 6000,\n",
    "        max_nsteps_per_cycle = 6000,\n",
    "        max_time_per_cycle = 25,\n",
    "        max_ncycles = 20\n",
    "    )\n",
    "\n",
    "exploration_kwargs = (burnin = burnin_2,)\n",
    "n_exploration = (10^2, 40);"
   ]
  },
  {
   "cell_type": "markdown",
   "metadata": {},
   "source": [
    "Space partitioning can be done using `BAT.KDTreePartitioning` algorithm"
   ]
  },
  {
   "cell_type": "code",
   "execution_count": null,
   "metadata": {},
   "outputs": [],
   "source": [
    "partitioner = KDTreePartitioning(\n",
    "        partition_dims = [1,], # dimension indices that are considered for partition\n",
    "        extend_bounds=true # \"false\" is appropriate for debugging, very fast tuning /convergence \n",
    "    );"
   ]
  },
  {
   "cell_type": "markdown",
   "metadata": {},
   "source": [
    "To integrate subspaces, any `BAT.IntegrationAlgorithm` can be used: "
   ]
  },
  {
   "cell_type": "code",
   "execution_count": null,
   "metadata": {},
   "outputs": [],
   "source": [
    "integrator = AHMIntegration(  \n",
    "        whitening= CholeskyPartialWhitening(), #CholeskyPartialWhitening(),\n",
    "        autocorlen= GeyerAutocorLen(),\n",
    "        volumetype = :HyperRectangle,\n",
    "        max_startingIDs = 10000,\n",
    "        max_startingIDs_fraction = 2.5,\n",
    "        rect_increase = 0.1,\n",
    "        warning_minstartingids = 16,\n",
    "        dotrimming = true,\n",
    "        uncertainty= [:cov]\n",
    "    );"
   ]
  },
  {
   "cell_type": "code",
   "execution_count": null,
   "metadata": {},
   "outputs": [],
   "source": [
    "algorithm = PartitionedSampling(\n",
    "        sampler = sampler,\n",
    "        exploration_sampler = exploration_sampler,\n",
    "        partitioner = partitioner,\n",
    "        integrator = integrator,\n",
    "        exploration_kwargs = exploration_kwargs,\n",
    "        sampling_kwargs = sampling_kwargs,\n",
    "        n_exploration = n_exploration\n",
    "    );"
   ]
  },
  {
   "cell_type": "code",
   "execution_count": null,
   "metadata": {},
   "outputs": [],
   "source": [
    "n_chains = 10 # chains per subspace \n",
    "n_samples = 10^4 # samples per subspace \n",
    "n_subspaces = 3\n",
    "\n",
    "output_sp_ms = bat_sample(posterior, (n_samples, n_chains, n_subspaces), algorithm);\n",
    "\n",
    "samples_3 = output_sp_ms.result;"
   ]
  },
  {
   "cell_type": "code",
   "execution_count": null,
   "metadata": {},
   "outputs": [],
   "source": [
    "posterior_integral = -log(sum(output_sp_ms.info.density_integral))"
   ]
  },
  {
   "cell_type": "code",
   "execution_count": null,
   "metadata": {},
   "outputs": [],
   "source": [
    "flat_bounds = BAT.get_tree_par_bounds(output_sp_ms.part_tree)"
   ]
  },
  {
   "cell_type": "code",
   "execution_count": null,
   "metadata": {},
   "outputs": [],
   "source": [
    "@show log(sum([prod(rec_bound[:,2] .- rec_bound[:,1]) for rec_bound in flat_bounds]))\n",
    "@show log_volume;"
   ]
  },
  {
   "cell_type": "code",
   "execution_count": null,
   "metadata": {},
   "outputs": [],
   "source": [
    "plot(samples_3, vsel=[1,2,3,], size=(700,500), globalmode=true, localmode=true, \n",
    "    upper=Dict(\"partition_tree\"=>output_sp_ms.part_tree, \n",
    "        \"mean\"=>false, \"globalmode\"=>false, \"localmode\"=>false))"
   ]
  },
  {
   "cell_type": "markdown",
   "metadata": {},
   "source": [
    "## Test Single Subspaces: "
   ]
  },
  {
   "cell_type": "code",
   "execution_count": null,
   "metadata": {},
   "outputs": [],
   "source": [
    "subs_ind = 2\n",
    "smpl_ind = output_sp_ms.info.samples_ind[subs_ind]\n",
    "smpl_tot_weight = output_sp_ms.info.sum_weights[subs_ind]\n",
    "smpl_trunc = samples_3[smpl_ind]\n",
    "smpl_int = output_sp_ms.info.density_integral[subs_ind].val\n",
    "\n",
    "samples_tmp = DensitySampleVector((smpl_trunc.v,\n",
    "            smpl_trunc.logd,\n",
    "            round.(Integer, smpl_tot_weight .* smpl_trunc.weight ./ smpl_int),\n",
    "            smpl_trunc.info,\n",
    "            smpl_trunc.aux));\n",
    "\n",
    "\n",
    "integral_val, hmi_data = bat_integrate(samples_tmp, integrator)\n",
    "\n",
    "@show smpl_int, integral_val"
   ]
  },
  {
   "cell_type": "code",
   "execution_count": null,
   "metadata": {},
   "outputs": [],
   "source": [
    "exp(log(integral_val) + log_volume)"
   ]
  },
  {
   "cell_type": "code",
   "execution_count": null,
   "metadata": {},
   "outputs": [],
   "source": [
    "plot(samples_tmp, upper=Dict(\"partition_tree\"=>output_sp_ms.part_tree, \n",
    "        \"mean\"=>false, \"globalmode\"=>false, \"localmode\"=>false))"
   ]
  },
  {
   "cell_type": "code",
   "execution_count": null,
   "metadata": {},
   "outputs": [],
   "source": [
    "# plot(hmi_data, dim1 = 1, dim2 = 3, size=(900,450), plot_seedcubes=false, plot_rejectedrects = false, plot_acceptedrects = true, legend=false)"
   ]
  },
  {
   "cell_type": "markdown",
   "metadata": {},
   "source": [
    "## Resample Subspace: "
   ]
  },
  {
   "cell_type": "code",
   "execution_count": null,
   "metadata": {},
   "outputs": [],
   "source": [
    "smpl_int = output_sp_ms.info.density_integral[subs_ind]\n",
    "\n",
    "flat_bounds = BAT.get_tree_par_bounds(output_sp_ms.part_tree)[subs_ind]\n",
    "\n",
    "iid_samples = bat_sample(NamedTupleDist(a=mixture_model), 10^6).result;"
   ]
  },
  {
   "cell_type": "code",
   "execution_count": null,
   "metadata": {},
   "outputs": [],
   "source": [
    "mask_iid = [prod(flat_bounds[:,1] .< s.v[1][1] .<  flat_bounds[:,2]) for s in iid_samples]\n",
    "\n",
    "@show sum(mask_iid)"
   ]
  },
  {
   "cell_type": "code",
   "execution_count": null,
   "metadata": {},
   "outputs": [],
   "source": [
    "integral_val_iid, hmi_data_iid = bat_integrate(iid_samples[mask_iid], integrator);"
   ]
  },
  {
   "cell_type": "code",
   "execution_count": null,
   "metadata": {},
   "outputs": [],
   "source": [
    "integral_val_iid"
   ]
  },
  {
   "cell_type": "code",
   "execution_count": null,
   "metadata": {},
   "outputs": [],
   "source": [
    "exp(log(smpl_int) + log_volume)"
   ]
  },
  {
   "cell_type": "code",
   "execution_count": null,
   "metadata": {},
   "outputs": [],
   "source": [
    "plot(iid_samples[mask_iid], upper=Dict(\"partition_tree\"=>output_sp_ms.part_tree, \n",
    "        \"mean\"=>false, \"globalmode\"=>false, \"localmode\"=>false))"
   ]
  },
  {
   "cell_type": "code",
   "execution_count": null,
   "metadata": {},
   "outputs": [],
   "source": []
  },
  {
   "cell_type": "code",
   "execution_count": null,
   "metadata": {},
   "outputs": [],
   "source": []
  },
  {
   "cell_type": "markdown",
   "metadata": {},
   "source": [
    "## MCMC samples: "
   ]
  },
  {
   "cell_type": "code",
   "execution_count": null,
   "metadata": {},
   "outputs": [],
   "source": [
    "output_mcmc = bat_sample(posterior, (10^5, 5), MetropolisHastings()).result;"
   ]
  },
  {
   "cell_type": "code",
   "execution_count": null,
   "metadata": {},
   "outputs": [],
   "source": [
    "plot(output_mcmc, vsel=[1,2,3,4,5], size=(700,700), globalmode=true, localmode=true, \n",
    "    upper=Dict(\"mean\"=>false, \"globalmode\"=>false, \"localmode\"=>false))"
   ]
  },
  {
   "cell_type": "code",
   "execution_count": null,
   "metadata": {},
   "outputs": [],
   "source": [
    "log(bat_integrate(output_mcmc).result)"
   ]
  },
  {
   "cell_type": "code",
   "execution_count": null,
   "metadata": {},
   "outputs": [],
   "source": []
  },
  {
   "cell_type": "code",
   "execution_count": null,
   "metadata": {},
   "outputs": [],
   "source": []
  },
  {
   "cell_type": "code",
   "execution_count": null,
   "metadata": {},
   "outputs": [],
   "source": []
  },
  {
   "cell_type": "code",
   "execution_count": null,
   "metadata": {},
   "outputs": [],
   "source": []
  },
  {
   "cell_type": "code",
   "execution_count": null,
   "metadata": {},
   "outputs": [],
   "source": []
  },
  {
   "cell_type": "code",
   "execution_count": null,
   "metadata": {},
   "outputs": [],
   "source": []
  },
  {
   "cell_type": "code",
   "execution_count": null,
   "metadata": {},
   "outputs": [],
   "source": []
  },
  {
   "cell_type": "code",
   "execution_count": null,
   "metadata": {},
   "outputs": [],
   "source": []
  },
  {
   "cell_type": "code",
   "execution_count": null,
   "metadata": {},
   "outputs": [],
   "source": [
    "bat_sample(posterior, 10^4, RandSampling())"
   ]
  },
  {
   "cell_type": "code",
   "execution_count": null,
   "metadata": {},
   "outputs": [],
   "source": []
  }
 ],
 "metadata": {
  "kernelspec": {
   "display_name": "Julia 1.4.2",
   "language": "julia",
   "name": "julia-1.4"
  },
  "language_info": {
   "file_extension": ".jl",
   "mimetype": "application/julia",
   "name": "julia",
   "version": "1.4.2"
  }
 },
 "nbformat": 4,
 "nbformat_minor": 4
}
