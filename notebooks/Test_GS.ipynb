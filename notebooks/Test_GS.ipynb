{
 "cells": [
  {
   "cell_type": "code",
   "execution_count": 1,
   "metadata": {},
   "outputs": [],
   "source": [
    "using ValueShapes"
   ]
  },
  {
   "cell_type": "code",
   "execution_count": 2,
   "metadata": {},
   "outputs": [],
   "source": [
    "using SpecialFunctions"
   ]
  },
  {
   "cell_type": "code",
   "execution_count": 3,
   "metadata": {},
   "outputs": [],
   "source": [
    "using HCubature"
   ]
  },
  {
   "cell_type": "code",
   "execution_count": 4,
   "metadata": {},
   "outputs": [
    {
     "name": "stderr",
     "output_type": "stream",
     "text": [
      "┌ Info: Precompiling BAT [c0cd4b16-88b7-57fa-983b-ab80aecada7e]\n",
      "└ @ Base loading.jl:1260\n",
      "┌ Warning: Package BAT does not have HCubature in its dependencies:\n",
      "│ - If you have BAT checked out for development and have\n",
      "│   added HCubature as a dependency but haven't updated your primary\n",
      "│   environment's manifest file, try `Pkg.resolve()`.\n",
      "│ - Otherwise you may need to report an issue with BAT\n",
      "└ Loading HCubature into BAT from project dependency, future warnings for BAT are suppressed.\n"
     ]
    }
   ],
   "source": [
    "using Revise \n",
    "using BAT\n",
    "using Plots\n",
    "using Distributions"
   ]
  },
  {
   "cell_type": "code",
   "execution_count": 30,
   "metadata": {},
   "outputs": [
    {
     "name": "stderr",
     "output_type": "stream",
     "text": [
      "┌ Info: Initializing new RNG of type Random123.Philox4x{UInt64,10}\n",
      "└ @ BAT /Users/vhafych/MPP-Server/gitrepos/BAT.jl/src/algotypes/bat_default.jl:44\n",
      "┌ Info: Using sampling algorithm IIDSampling()\n",
      "└ @ BAT /Users/vhafych/MPP-Server/gitrepos/BAT.jl/src/algotypes/bat_default.jl:44\n"
     ]
    }
   ],
   "source": [
    "NN = 5\n",
    "\n",
    "a =  NamedTupleDist( a = GaussianShell(r=5, w=2, n=5))\n",
    "\n",
    "samples_iid = bat_sample(a.a, 10^5).result;"
   ]
  },
  {
   "cell_type": "code",
   "execution_count": 31,
   "metadata": {},
   "outputs": [
    {
     "name": "stderr",
     "output_type": "stream",
     "text": [
      "┌ Info: Using integration algorithm AHMIntegration{CholeskyPartialWhitening,GeyerAutocorLen}\n",
      "│   whitening: CholeskyPartialWhitening CholeskyPartialWhitening()\n",
      "│   autocorlen: GeyerAutocorLen GeyerAutocorLen()\n",
      "│   volumetype: Symbol HyperRectangle\n",
      "│   max_startingIDs: Int64 10000\n",
      "│   max_startingIDs_fraction: Float64 2.5\n",
      "│   rect_increase: Float64 0.1\n",
      "│   warning_minstartingids: Int64 16\n",
      "│   dotrimming: Bool true\n",
      "│   uncertainty: Array{Symbol}((1,))\n",
      "└ @ BAT /Users/vhafych/MPP-Server/gitrepos/BAT.jl/src/algotypes/bat_default.jl:44\n",
      "┌ Info: Harmonic Mean Integration started. Samples in dataset 1 / 2: \t50000 / 49999\tParameters:\t5\n",
      "└ @ BAT /Users/vhafych/MPP-Server/gitrepos/BAT.jl/src/integration/ahmi/harmonic_mean_integration.jl:93\n",
      "┌ Info: Data Whitening.\n",
      "└ @ BAT /Users/vhafych/MPP-Server/gitrepos/BAT.jl/src/integration/ahmi/harmonic_mean_integration.jl:108\n",
      "┌ Info: Apply Whitening Transformation to Data Set 2\n",
      "└ @ BAT /Users/vhafych/MPP-Server/gitrepos/BAT.jl/src/integration/ahmi/harmonic_mean_integration.jl:117\n",
      "┌ Info: Create Space Partitioning Tree\n",
      "└ @ BAT /Users/vhafych/MPP-Server/gitrepos/BAT.jl/src/integration/ahmi/harmonic_mean_integration.jl:129\n",
      "┌ Info: Determine Hyperrectangle Starting Samples\n",
      "└ @ BAT /Users/vhafych/MPP-Server/gitrepos/BAT.jl/src/integration/ahmi/harmonic_mean_integration.jl:145\n",
      "┌ Info: Determine Tolerances for Hyperrectangle Creation\n",
      "└ @ BAT /Users/vhafych/MPP-Server/gitrepos/BAT.jl/src/integration/ahmi/harmonic_mean_integration.jl:165\n",
      "┌ Info: Create 222 Hyperrectangles using 8 thread(s)\n",
      "└ @ BAT /Users/vhafych/MPP-Server/gitrepos/BAT.jl/src/integration/ahmi/hm_integration_rectangle.jl:9\n",
      "\u001b[32mProgress: 100%|█████████████████████████████████████████| Time: 0:00:02\u001b[39m\n",
      "┌ Info: Updating 222 Hyperrectangles using 8 thread(s)\n",
      "└ @ BAT /Users/vhafych/MPP-Server/gitrepos/BAT.jl/src/integration/ahmi/hm_integration_rectangle.jl:27\n",
      "\u001b[32mProgress: 100%|█████████████████████████████████████████| Time: 0:00:00\u001b[39m\n",
      "┌ Info: Integrating 222 Hyperrectangles\n",
      "└ @ BAT /Users/vhafych/MPP-Server/gitrepos/BAT.jl/src/integration/ahmi/harmonic_mean_integration.jl:384\n",
      "\u001b[32mProgress: 100%|█████████████████████████████████████████| Time: 0:00:00\u001b[39m\n",
      "┌ Info: Estimating Uncertainty (cov_weighted)\n",
      "└ @ BAT /Users/vhafych/MPP-Server/gitrepos/BAT.jl/src/integration/ahmi/harmonic_mean_integration.jl:59\n"
     ]
    },
    {
     "data": {
      "text/latex": [
       "$1.0053 \\pm 0.0034$"
      ],
      "text/plain": [
       "1.0053 ± 0.0034"
      ]
     },
     "execution_count": 31,
     "metadata": {},
     "output_type": "execute_result"
    }
   ],
   "source": [
    "bat_integrate(samples_iid).result"
   ]
  },
  {
   "cell_type": "code",
   "execution_count": null,
   "metadata": {},
   "outputs": [],
   "source": [
    "# samples_mcmc = bat_sample(PosteriorDensity(x->LogDVal(0.0), a), (10^4, 2), MetropolisHastings()).result;"
   ]
  },
  {
   "cell_type": "code",
   "execution_count": null,
   "metadata": {},
   "outputs": [],
   "source": [
    "\n",
    "\n",
    "true_param =(λ=zeros(NN), r=5, σ=2)\n",
    "\n",
    "function fun(x)\n",
    "\tz_o = zeros(length(x))\n",
    "\ttrue_param = (λ=z_o, r=5, σ=2)\n",
    "    abs_dist = sqrt(sum((z_o .- x).^2))\n",
    "    return exp(-(abs_dist - true_param.r)^2/(2*true_param.σ^2)) / sqrt(2 * pi * true_param.σ^2) \n",
    "end\n",
    "\n",
    "function LogTrueIntegral(N, true_param) \n",
    "    g(x; true_param=true_param, N=N) = x[1]^(N-1) * exp( -(x[1]-true_param.r)^2/(2*true_param.σ^2) )\n",
    "    return log((sqrt(2)*pi^((N-1)/2)) / (gamma(N/2)*true_param.σ)*hcubature(g, [0], [130])[1])\n",
    "end"
   ]
  },
  {
   "cell_type": "code",
   "execution_count": null,
   "metadata": {},
   "outputs": [],
   "source": [
    "LogTrueIntegral(NN, true_param)"
   ]
  },
  {
   "cell_type": "code",
   "execution_count": null,
   "metadata": {},
   "outputs": [],
   "source": []
  },
  {
   "cell_type": "code",
   "execution_count": null,
   "metadata": {},
   "outputs": [],
   "source": []
  }
 ],
 "metadata": {
  "kernelspec": {
   "display_name": "Julia 1.4.2",
   "language": "julia",
   "name": "julia-1.4"
  },
  "language_info": {
   "file_extension": ".jl",
   "mimetype": "application/julia",
   "name": "julia",
   "version": "1.4.2"
  }
 },
 "nbformat": 4,
 "nbformat_minor": 4
}
