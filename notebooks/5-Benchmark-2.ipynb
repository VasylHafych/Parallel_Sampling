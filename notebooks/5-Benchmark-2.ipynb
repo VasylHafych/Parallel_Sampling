{
 "cells": [
  {
   "cell_type": "markdown",
   "metadata": {},
   "source": [
    "# Benchmark #2:"
   ]
  },
  {
   "cell_type": "code",
   "execution_count": 1,
   "metadata": {},
   "outputs": [],
   "source": [
    "using IntervalSets\n",
    "using Distributions\n",
    "using Random, LinearAlgebra, Statistics, Distributions, StatsBase, ArraysOfArrays\n",
    "using JLD2\n",
    "using ValueShapes\n",
    "using TypedTables\n",
    "using Measurements\n",
    "using TypedTables\n",
    "using HypothesisTests\n",
    "using HDF5\n",
    "using CSV"
   ]
  },
  {
   "cell_type": "code",
   "execution_count": 2,
   "metadata": {},
   "outputs": [
    {
     "data": {
      "text/plain": [
       "Plots.PyPlotBackend()"
      ]
     },
     "execution_count": 2,
     "metadata": {},
     "output_type": "execute_result"
    }
   ],
   "source": [
    "# using PyPlot\n",
    "using Plots\n",
    "pyplot()"
   ]
  },
  {
   "cell_type": "code",
   "execution_count": 3,
   "metadata": {},
   "outputs": [],
   "source": [
    "using PyPlot"
   ]
  },
  {
   "cell_type": "code",
   "execution_count": 4,
   "metadata": {},
   "outputs": [],
   "source": [
    "# using Revise\n",
    "using BAT"
   ]
  },
  {
   "cell_type": "markdown",
   "metadata": {},
   "source": [
    "## Functions: "
   ]
  },
  {
   "cell_type": "code",
   "execution_count": 5,
   "metadata": {},
   "outputs": [
    {
     "data": {
      "text/plain": [
       "convert_to_typed_table (generic function with 1 method)"
      ]
     },
     "execution_count": 5,
     "metadata": {},
     "output_type": "execute_result"
    }
   ],
   "source": [
    "function convert_to_typed_table(table)\n",
    "    density_integral = [Measurements.measurement(parse.(Float64, split(v_run, \" ± \"))...) for v_run in table.density_integral]\n",
    "    integration_cpu_time = collect(table.integration_cpu_time)\n",
    "    sampling_cpu_time = collect(table.sampling_cpu_time)\n",
    "    n_threads = collect(table.n_threads)\n",
    "    worker_id = collect(table.worker_id)\n",
    "    sum_weights = collect(table.sum_weights)\n",
    "    samples_ind = [UnitRange(parse.(Int64, split(v_run, \":\"))...) for v_run in table.samples_ind ]\n",
    "    sampling_wc = [UnitRange(parse.(Int64, split(v_run, \":\"))...) for v_run in table.sampling_wc ]\n",
    "    integration_wc = [UnitRange(parse.(Int64, split(v_run, \":\"))...) for v_run in table.integration_wc ]\n",
    "    \n",
    "    TypedTables.Table(\n",
    "        density_integral=density_integral,\n",
    "        integration_cpu_time=integration_cpu_time,\n",
    "        sampling_cpu_time=sampling_cpu_time,\n",
    "        n_threads=n_threads,\n",
    "        worker_id=worker_id,\n",
    "        sum_weights=sum_weights,\n",
    "        samples_ind=samples_ind,\n",
    "        sampling_wc=sampling_wc,\n",
    "        integration_wc=integration_wc\n",
    "    )\n",
    "end"
   ]
  },
  {
   "cell_type": "code",
   "execution_count": 7,
   "metadata": {},
   "outputs": [
    {
     "data": {
      "text/plain": [
       "get_nthreads (generic function with 1 method)"
      ]
     },
     "execution_count": 7,
     "metadata": {},
     "output_type": "execute_result"
    }
   ],
   "source": [
    "prior = NamedTupleDist(a = [Uniform(-100,100) for i in 1:9]);\n",
    "\n",
    "function get_sampling_cpu_time(name)\n",
    "    csvfile = CSV.File(name)\n",
    "    tt = Table(csvfile)\n",
    "    table = convert_to_typed_table(tt)\n",
    "    sum(table.sampling_cpu_time)\n",
    "end\n",
    "\n",
    "function get_integration_cpu_time(name)\n",
    "    csvfile = CSV.File(name)\n",
    "    tt = Table(csvfile)\n",
    "    table = convert_to_typed_table(tt)\n",
    "    sum(table.integration_cpu_time)\n",
    "end\n",
    "\n",
    "function get_sampling_wc_time(name)\n",
    "    csvfile = CSV.File(name)\n",
    "    tt = Table(csvfile)\n",
    "    table = convert_to_typed_table(tt)\n",
    "    return (maximum([t[end] for t in table.sampling_wc]) - minimum([t[1] for t in table.sampling_wc]))* 10^-9\n",
    "end\n",
    "\n",
    "function get_integration_wc_time(name)\n",
    "    csvfile = CSV.File(name)\n",
    "    tt = Table(csvfile)\n",
    "    table = convert_to_typed_table(tt)\n",
    "    return (maximum([t[end] for t in table.integration_wc]) - minimum([t[1] for t in table.integration_wc]))* 10^-9\n",
    "end\n",
    "\n",
    "function get_integrals(name)\n",
    "    csvfile = CSV.File(name)\n",
    "    tt = Table(csvfile)\n",
    "    table = convert_to_typed_table(tt)\n",
    "    return exp(log(sum(table.density_integral)) + 47.684856298932324)\n",
    "end\n",
    "\n",
    "function get_nsamples(name)\n",
    "    csvfile = CSV.File(name)\n",
    "    tt = Table(csvfile)\n",
    "    table = convert_to_typed_table(tt)\n",
    "    return table.samples_ind[end][end]\n",
    "end\n",
    "\n",
    "function get_nthreads(name)\n",
    "    csvfile = CSV.File(name)\n",
    "    tt = Table(csvfile)\n",
    "    table = convert_to_typed_table(tt)\n",
    "    return table.n_threads[1]\n",
    "end"
   ]
  },
  {
   "cell_type": "markdown",
   "metadata": {},
   "source": [
    "## Parse Data: "
   ]
  },
  {
   "cell_type": "code",
   "execution_count": 22,
   "metadata": {},
   "outputs": [
    {
     "data": {
      "text/plain": [
       "\"hdf5\""
      ]
     },
     "execution_count": 22,
     "metadata": {},
     "output_type": "execute_result"
    }
   ],
   "source": [
    "names = [\"1.\", \"2.\", \"3.\", \"4.\", \"5.\", \"6.\", \"7.\", \"8.\", \"9.\", \"10.\"]\n",
    "\n",
    "path = \"../data/Benchmark-2/1/table\"\n",
    "path2 = \"../data/Benchmark-2/1/samples\"\n",
    "\n",
    "tbl = \"csv\"\n",
    "smpl = \"hdf5\""
   ]
  },
  {
   "cell_type": "code",
   "execution_count": 23,
   "metadata": {},
   "outputs": [
    {
     "data": {
      "text/plain": [
       "Table with 8 columns and 10 rows:\n",
       "      ind  length_samples  cpu_sampling_time  cpu_integration_time  ⋯\n",
       "    ┌────────────────────────────────────────────────────────────────\n",
       " 1  │ 1    1000000         219.418            101.01                ⋯\n",
       " 2  │ 2    1000000         305.407            100.682               ⋯\n",
       " 3  │ 3    1000000         338.553            89.9315               ⋯\n",
       " 4  │ 4    1000000         422.455            104.035               ⋯\n",
       " 5  │ 5    1000000         506.163            107.989               ⋯\n",
       " 6  │ 6    1000000         589.823            107.869               ⋯\n",
       " 7  │ 7    1000000         610.284            111.784               ⋯\n",
       " 8  │ 8    1000000         622.313            111.425               ⋯\n",
       " 9  │ 9    1000000         685.572            117.869               ⋯\n",
       " 10 │ 10   1000000         853.224            119.758               ⋯"
      ]
     },
     "execution_count": 23,
     "metadata": {},
     "output_type": "execute_result"
    }
   ],
   "source": [
    "run_data = Table(\n",
    "    ind = [1, 2, 3, 4, 5, 6, 7, 8, 9, 10], \n",
    "    length_samples = [get_nsamples(t) for t in path.*names.*tbl],\n",
    "    cpu_sampling_time = [get_sampling_cpu_time(t) for t in path .* names.*tbl],\n",
    "    cpu_integration_time = [get_integration_cpu_time(t) for t in path .* names.*tbl],\n",
    "    wc_sampling_time = [get_sampling_wc_time(t) for t in path .* names.*tbl],\n",
    "    wc_integration_time = [get_integration_wc_time(t) for t in path .* names.*tbl],\n",
    "    n_chains=[10, 10, 10, 10, 10, 10, 10, 10, 10, 10],\n",
    "    n_threads = [get_nthreads(t) for t in path .* names.*tbl]\n",
    ")"
   ]
  },
  {
   "cell_type": "markdown",
   "metadata": {},
   "source": [
    "## Run overview:"
   ]
  },
  {
   "cell_type": "code",
   "execution_count": 24,
   "metadata": {},
   "outputs": [
    {
     "data": {
      "image/png": "[encoded data removed]",
      "text/plain": [
       "Figure(PyObject <Figure size 800x600 with 2 Axes>)"
      ]
     },
     "metadata": {},
     "output_type": "display_data"
    },
    {
     "data": {
      "text/plain": [
       "(1, 10)"
      ]
     },
     "execution_count": 24,
     "metadata": {},
     "output_type": "execute_result"
    }
   ],
   "source": [
    "sampling_wc_time = run_data.wc_sampling_time[1]\n",
    "integration_wc_time = run_data.wc_integration_time[1]\n",
    "\n",
    "sampling_cpu_time = run_data.cpu_sampling_time[1]\n",
    "integration_cpu_time = run_data.cpu_integration_time[1]\n",
    "\n",
    "fig, ax = plt.subplots(2,1, figsize=(8,6), sharex=true)\n",
    "\n",
    "fig.subplots_adjust(hspace=0.00, wspace=0.03)\n",
    "\n",
    "ax[1].plot(run_data.n_threads,  sampling_wc_time ./ run_data.wc_sampling_time, \"o-\", label = \"Sampling\")\n",
    "ax[1].plot(run_data.n_threads,  integration_wc_time ./ run_data.wc_integration_time, \"o-\", label = \"Integration\")\n",
    "\n",
    "ax[2].plot(run_data.n_threads,  sampling_cpu_time ./ run_data.cpu_sampling_time, \"o-\", label = \"Sampling\")\n",
    "ax[2].plot(run_data.n_threads,  integration_cpu_time ./ run_data.cpu_integration_time, \"o-\", label = \"Integration\")\n",
    "\n",
    "ax[1].legend(ncol=1, bbox_to_anchor=(1.02, 1.02))\n",
    "ax[1].set_ylabel(\"Elapsed Time Speedup\")\n",
    "ax[2].set_ylabel(\"Total CPU Time Speedup\")\n",
    "ax[2].set_xlabel(\"# Threads\")\n",
    "ax[1].set_xlim(1,10)"
   ]
  },
  {
   "cell_type": "code",
   "execution_count": null,
   "metadata": {},
   "outputs": [],
   "source": []
  }
 ],
 "metadata": {
  "kernelspec": {
   "display_name": "Julia 1.4.2",
   "language": "julia",
   "name": "julia-1.4"
  },
  "language_info": {
   "file_extension": ".jl",
   "mimetype": "application/julia",
   "name": "julia",
   "version": "1.4.2"
  }
 },
 "nbformat": 4,
 "nbformat_minor": 4
}
