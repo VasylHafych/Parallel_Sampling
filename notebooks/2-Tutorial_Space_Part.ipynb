{
 "cells": [
  {
   "cell_type": "markdown",
   "metadata": {},
   "source": [
    "# Sampling with Space Partitioning"
   ]
  },
  {
   "cell_type": "markdown",
   "metadata": {},
   "source": [
    "## Tutorial Notebook "
   ]
  },
  {
   "cell_type": "markdown",
   "metadata": {},
   "source": [
    "    Structure: \n",
    "    \n",
    "    1. BAT model definition: Gaussian mixture\n",
    "    2. Single-click run: Default settings  \n",
    "    3. Detailed sampling summary\n",
    "       -- @elapsed/@CPUelapsed time \n",
    "       -- Posterior integrals\n",
    "       -- Plotting\n",
    "    4. Fine-grained control: Samplers, integrators, partitioner \n",
    "       -- HMC/Sobol\n"
   ]
  },
  {
   "cell_type": "code",
   "execution_count": null,
   "metadata": {},
   "outputs": [],
   "source": [
    "using IntervalSets\n",
    "using Distributions\n",
    "using Random, LinearAlgebra, Statistics, Distributions, StatsBase, ArraysOfArrays\n",
    "using JLD2\n",
    "using ValueShapes\n",
    "using TypedTables\n",
    "using Measurements\n",
    "using TypedTables\n",
    "using HypothesisTests"
   ]
  },
  {
   "cell_type": "code",
   "execution_count": null,
   "metadata": {},
   "outputs": [],
   "source": [
    "using Plots\n",
    "pyplot()"
   ]
  },
  {
   "cell_type": "code",
   "execution_count": null,
   "metadata": {},
   "outputs": [],
   "source": [
    "using BAT"
   ]
  },
  {
   "cell_type": "markdown",
   "metadata": {},
   "source": [
    "## 1. BAT model definition: Gaussian mixture"
   ]
  },
  {
   "cell_type": "markdown",
   "metadata": {},
   "source": [
    "Let us use a mixture of 4 normal distribution with random  covariance matrices as a model: "
   ]
  },
  {
   "cell_type": "code",
   "execution_count": null,
   "metadata": {},
   "outputs": [],
   "source": [
    "σ_1 = [3.426818298733095 12.378238116671048 -9.632531611142454; 3.426818298733095 4.916266580684483 -5.029942800849483; 3.426818298733095 -6.737309268887753 5.4343957706004415; 3.426818298733095 -3.9729587574454333 3.379361860370276]\n",
    "σ_2 = [12.378238116671048 69.83909693165143 -43.478993858310886; 4.916266580684482 69.83909693165143 -64.18784570966332; -6.737309268887753 69.83909693165143 32.734776615550174; -3.972958757445433 69.83909693165143 53.74871853095418]\n",
    "σ_3 = [-9.632531611142456 -43.478993858310886 60.0626256206892; -5.029942800849484 -64.18784570966332 60.0626256206892; 5.4343957706004415 32.734776615550174 60.0626256206892; 3.3793618603702757 53.74871853095418 60.0626256206892]\n",
    "σ = cat(σ_1,σ_2,σ_3, dims=3)\n",
    "\n",
    "μ = [8.959570984309234 -9.021529871694005 -5.007789383392622; -1.446445514344754 -7.8327010768703875 -3.2653263028963986; -6.40954093270941 0.25815094665222027 5.830143596540282; 5.076504517881521 -0.8952973253675331 9.16356325348496]\n",
    "\n",
    "mixture_model = MixtureModel(MvNormal[MvNormal(μ[i,:], Matrix(Hermitian(σ[i,:,:])) ) for i in 1:4]);\n"
   ]
  },
  {
   "cell_type": "code",
   "execution_count": null,
   "metadata": {},
   "outputs": [],
   "source": [
    "prior = NamedTupleDist(a = [Uniform(-50,50), Uniform(-50,50), Uniform(-50,50)])\n",
    "\n",
    "likelihood = let model = mixture_model\n",
    "    params -> LogDVal(logpdf(model, params.a))\n",
    "end\n",
    "\n",
    "posterior = PosteriorDensity(likelihood, prior);\n",
    "\n",
    "log_volume = BAT.log_volume(BAT.spatialvolume(posterior.parbounds))"
   ]
  },
  {
   "cell_type": "markdown",
   "metadata": {},
   "source": [
    "## 2. Single-click run: Default settings "
   ]
  },
  {
   "cell_type": "markdown",
   "metadata": {},
   "source": [
    "Default parameters of the `PartitionedSampling()` algorithm: \n",
    "\n",
    "1) Exploration samples: `MetropolisHastings()` sampler (20 chains * 10^2 samples)\n",
    "\n",
    "2) Sampling: `MetropolisHastings()` sampler\n",
    "\n",
    "3) Space partitioning: `KDTreePartitioning()`\n",
    "\n",
    "4) Reweighting: `AHMIntegration()`\n"
   ]
  },
  {
   "cell_type": "code",
   "execution_count": null,
   "metadata": {},
   "outputs": [],
   "source": [
    "n_chains = 5 # chains per subspace \n",
    "n_samples = 10^4 # samples per subspace \n",
    "n_subspaces = 5;"
   ]
  },
  {
   "cell_type": "markdown",
   "metadata": {},
   "source": [
    "To generate samples with default settings"
   ]
  },
  {
   "cell_type": "code",
   "execution_count": null,
   "metadata": {},
   "outputs": [],
   "source": [
    "algorithm_1 = PartitionedSampling()\n",
    "\n",
    "output_sp = bat_sample(posterior, (n_samples, n_chains, n_subspaces), algorithm_1)\n",
    "\n",
    "samples_1 = output_sp.result;"
   ]
  },
  {
   "cell_type": "markdown",
   "metadata": {},
   "source": [
    "Just to compare, let us generate samples using MetropolisHastings algorithm, too:"
   ]
  },
  {
   "cell_type": "code",
   "execution_count": null,
   "metadata": {},
   "outputs": [],
   "source": [
    "algorithm_2 = MetropolisHastings()\n",
    "\n",
    "output_mcmc = bat_sample(posterior, (n_samples*n_subspaces, n_chains), algorithm_2)\n",
    "\n",
    "samples_2 = output_mcmc.result;"
   ]
  },
  {
   "cell_type": "markdown",
   "metadata": {},
   "source": [
    "Standard BAT statistics on the posterior DensitySampleVector:"
   ]
  },
  {
   "cell_type": "code",
   "execution_count": null,
   "metadata": {},
   "outputs": [],
   "source": [
    "println(\"Mode: $(mode(samples_1))\")\n",
    "println(\"Mode: $(mode(samples_2))\")\n",
    "\n",
    "println(\"Mean: $(mean(samples_1))\")\n",
    "println(\"Mean: $(mean(samples_2))\")"
   ]
  },
  {
   "cell_type": "markdown",
   "metadata": {},
   "source": [
    "Standard BAT plotting recipes: "
   ]
  },
  {
   "cell_type": "code",
   "execution_count": null,
   "metadata": {},
   "outputs": [],
   "source": [
    "plot(samples_1, size=(700,700), upper=Dict(\"mean\"=>false, \"globalmode\"=>false, \"localmode\"=>false))"
   ]
  },
  {
   "cell_type": "code",
   "execution_count": null,
   "metadata": {},
   "outputs": [],
   "source": [
    "plot(samples_2, size=(700,700), upper=Dict(\"mean\"=>false, \"globalmode\"=>false, \"localmode\"=>false))"
   ]
  },
  {
   "cell_type": "code",
   "execution_count": null,
   "metadata": {},
   "outputs": [],
   "source": []
  },
  {
   "cell_type": "markdown",
   "metadata": {},
   "source": [
    "## 3. Detailed sampling summary"
   ]
  },
  {
   "cell_type": "markdown",
   "metadata": {},
   "source": [
    "Run information:"
   ]
  },
  {
   "cell_type": "code",
   "execution_count": null,
   "metadata": {},
   "outputs": [],
   "source": [
    "columnnames(output_sp.info)"
   ]
  },
  {
   "cell_type": "code",
   "execution_count": null,
   "metadata": {},
   "outputs": [],
   "source": [
    "output_sp.info"
   ]
  },
  {
   "cell_type": "code",
   "execution_count": null,
   "metadata": {},
   "outputs": [],
   "source": [
    "posterior_integral = sum(output_sp.info.density_integral)"
   ]
  },
  {
   "cell_type": "code",
   "execution_count": null,
   "metadata": {},
   "outputs": [],
   "source": [
    "log(posterior_integral)"
   ]
  },
  {
   "cell_type": "code",
   "execution_count": null,
   "metadata": {},
   "outputs": [],
   "source": [
    "total_cpu_time = sum(output_sp.info.sampling_cpu_time) + sum(output_sp.info.integration_cpu_time)"
   ]
  },
  {
   "cell_type": "code",
   "execution_count": null,
   "metadata": {},
   "outputs": [],
   "source": [
    "total_wc_time = (output_sp.info.sampling_wc[end][end] - output_sp.info.sampling_wc[1][1])*1e-9"
   ]
  },
  {
   "cell_type": "markdown",
   "metadata": {},
   "source": [
    "Partition tree: "
   ]
  },
  {
   "cell_type": "code",
   "execution_count": null,
   "metadata": {},
   "outputs": [],
   "source": [
    "plot(samples_1, size=(700,700), upper=Dict(\"partition_tree\"=>output_sp.part_tree, \"mean\"=>false, \"globalmode\"=>false, \"localmode\"=>false))"
   ]
  },
  {
   "cell_type": "markdown",
   "metadata": {},
   "source": [
    "Exploration samples: "
   ]
  },
  {
   "cell_type": "code",
   "execution_count": null,
   "metadata": {},
   "outputs": [],
   "source": [
    "n_explorstion = length(output_sp.exp_samples)"
   ]
  },
  {
   "cell_type": "code",
   "execution_count": null,
   "metadata": {},
   "outputs": [],
   "source": [
    "plot(output_sp.exp_samples, size=(700,700), \n",
    "    upper = Dict(\"seriestype\"=>:scatter, \"colors\"=>:red, \"partition_tree\"=>output_sp.part_tree,), \n",
    "    lower = Dict(\"seriestype\"=>:hist, \"bins\"=>30),\n",
    "    diagonal = Dict(\"bins\"=>30),)"
   ]
  },
  {
   "cell_type": "code",
   "execution_count": null,
   "metadata": {},
   "outputs": [],
   "source": []
  },
  {
   "cell_type": "markdown",
   "metadata": {},
   "source": [
    "## 4. Fine-grained control: Samplers, integrators, partitioner "
   ]
  },
  {
   "cell_type": "markdown",
   "metadata": {},
   "source": [
    "Subspace sampler can be any `BAT.AbstractSamplingAlgorithm` algorithm: "
   ]
  },
  {
   "cell_type": "code",
   "execution_count": null,
   "metadata": {},
   "outputs": [],
   "source": [
    "sampler = MetropolisHastings() # AHMC()\n",
    "\n",
    "burnin_1 = MCMCBurninStrategy(\n",
    "        max_nsamples_per_cycle = 400,\n",
    "        max_nsteps_per_cycle = 400,\n",
    "        max_time_per_cycle = 25,\n",
    "        max_ncycles = 20\n",
    "    )\n",
    "\n",
    "sampling_kwargs = (burnin = burnin_1,);"
   ]
  },
  {
   "cell_type": "markdown",
   "metadata": {},
   "source": [
    "The same with exploration sampler"
   ]
  },
  {
   "cell_type": "code",
   "execution_count": null,
   "metadata": {},
   "outputs": [],
   "source": [
    "# Sobol Sampler: \n",
    "# exploration_sampler = BAT.SobolSampler()\n",
    "# exploration_kwargs = NamedTuple()\n",
    "# n_exploration = (10^2, 40);\n",
    "\n",
    "# MetropolisHastings: \n",
    "exploration_sampler = MetropolisHastings()\n",
    "burnin_2 = MCMCBurninStrategy(\n",
    "        max_nsamples_per_cycle = 400,\n",
    "        max_nsteps_per_cycle = 400,\n",
    "        max_time_per_cycle = 25,\n",
    "        max_ncycles = 5\n",
    "    )\n",
    "exploration_kwargs = (burnin = burnin_1,)\n",
    "n_exploration = (10^2, 40);"
   ]
  },
  {
   "cell_type": "markdown",
   "metadata": {},
   "source": [
    "Space partitioning can be done using `BAT.KDTreePartitioning` algorithm"
   ]
  },
  {
   "cell_type": "code",
   "execution_count": null,
   "metadata": {},
   "outputs": [],
   "source": [
    "partitioner = KDTreePartitioning(\n",
    "        partition_dims = [1,2,], # dimension indices that are considered for partition\n",
    "        extend_bounds=false # \"false\" is appropriate for debugging, very fast tuning /convergence \n",
    "    );"
   ]
  },
  {
   "cell_type": "markdown",
   "metadata": {},
   "source": [
    "To integrate subspaces, any `BAT.IntegrationAlgorithm` can be used: "
   ]
  },
  {
   "cell_type": "code",
   "execution_count": null,
   "metadata": {},
   "outputs": [],
   "source": [
    "integrator = AHMIntegration(  \n",
    "        whitening= CholeskyPartialWhitening(),\n",
    "        autocorlen= GeyerAutocorLen(),\n",
    "        volumetype = :HyperRectangle,\n",
    "        max_startingIDs = 10000,\n",
    "        max_startingIDs_fraction = 2.5,\n",
    "        rect_increase = 0.1,\n",
    "        warning_minstartingids = 16,\n",
    "        dotrimming = true,\n",
    "        uncertainty= [:cov]\n",
    "    );"
   ]
  },
  {
   "cell_type": "markdown",
   "metadata": {},
   "source": [
    "Finally, `PartitionedSampling` can be defined using settings: "
   ]
  },
  {
   "cell_type": "code",
   "execution_count": null,
   "metadata": {},
   "outputs": [],
   "source": [
    "algorithm = PartitionedSampling(\n",
    "        sampler = sampler,\n",
    "        exploration_sampler = exploration_sampler,\n",
    "        partitioner = partitioner,\n",
    "        integrator = integrator,\n",
    "        exploration_kwargs = exploration_kwargs,\n",
    "        sampling_kwargs = sampling_kwargs,\n",
    "        n_exploration = n_exploration\n",
    "    );"
   ]
  },
  {
   "cell_type": "code",
   "execution_count": null,
   "metadata": {},
   "outputs": [],
   "source": [
    "output_sp_ms = bat_sample(posterior, (n_samples, n_chains, 40), algorithm);\n",
    "\n",
    "samples_3 = output_sp_ms.result;"
   ]
  },
  {
   "cell_type": "code",
   "execution_count": null,
   "metadata": {},
   "outputs": [],
   "source": [
    "plot(samples_3, vsel=[1,2,3], size=(700,700), globalmode=true, localmode=true, \n",
    "    upper=Dict(\"partition_tree\"=>output_sp_ms.part_tree, \n",
    "        \"mean\"=>false, \"globalmode\"=>false, \"localmode\"=>false))"
   ]
  },
  {
   "cell_type": "code",
   "execution_count": null,
   "metadata": {},
   "outputs": [],
   "source": [
    "posterior_integral = sum(output_sp_ms.info.density_integral)"
   ]
  },
  {
   "cell_type": "code",
   "execution_count": null,
   "metadata": {},
   "outputs": [],
   "source": [
    "plot(output_sp_ms.exp_samples, size=(700,700), \n",
    "    upper = Dict(\"seriestype\"=>:scatter, \"partition_tree\"=>output_sp_ms.part_tree,), \n",
    "    lower = Dict(\"seriestype\"=>:hist, \"bins\"=>30),\n",
    "    diagonal = Dict(\"bins\"=>30),)"
   ]
  },
  {
   "cell_type": "code",
   "execution_count": null,
   "metadata": {},
   "outputs": [],
   "source": []
  }
 ],
 "metadata": {
  "kernelspec": {
   "display_name": "Julia 1.4.2",
   "language": "julia",
   "name": "julia-1.4"
  },
  "language_info": {
   "file_extension": ".jl",
   "mimetype": "application/julia",
   "name": "julia",
   "version": "1.4.2"
  }
 },
 "nbformat": 4,
 "nbformat_minor": 4
}
